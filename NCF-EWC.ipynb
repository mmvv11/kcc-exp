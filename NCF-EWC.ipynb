{
 "cells": [
  {
   "cell_type": "markdown",
   "source": [
    "## 무비렌즈"
   ],
   "metadata": {
    "collapsed": false
   }
  },
  {
   "cell_type": "code",
   "execution_count": 73,
   "outputs": [],
   "source": [
    "import torch\n",
    "import torch.nn as nn\n",
    "import torch.optim as optim\n",
    "import pandas as pd\n",
    "from sklearn.model_selection import train_test_split\n",
    "from torch.utils.data import Dataset, DataLoader\n",
    "from tqdm import tqdm"
   ],
   "metadata": {
    "collapsed": false
   }
  },
  {
   "cell_type": "markdown",
   "source": [
    "### 데이터 준비"
   ],
   "metadata": {
    "collapsed": false
   }
  },
  {
   "cell_type": "code",
   "execution_count": 74,
   "outputs": [],
   "source": [
    "# 데이터 로드\n",
    "\n",
    "\"\"\"\n",
    "필요한 컬럼은 유저, 아이템, rating\n",
    "\n",
    "우선 간단하게 빨리 해보는게 중요하니,\n",
    "rating이 5점이면 rating 컬럼을 1\n",
    "아니라면 0로 바꾸자고.\n",
    "\"\"\"\n",
    "\n",
    "\n",
    "def getDataByScenario(scenario):\n",
    "    \"\"\"\n",
    "    :param scenario: increase, fixed, user, item\n",
    "    :return: dfs\n",
    "    \"\"\"\n",
    "    dfs = []\n",
    "\n",
    "    if scenario in [\"increase\", 'fixed']:\n",
    "        for i in range(6):\n",
    "            df = pd.read_csv(f\"./dataset/Movielens/{scenario}/ml_1m_inc{i}.csv\")\n",
    "            dfs.append(df)\n",
    "\n",
    "    if scenario in [\"user\", \"item\"]:\n",
    "        for i in range(6):\n",
    "            train = pd.read_csv(f\"./dataset/Movielens/{scenario}/train_ml_1m_inc{i}.csv\")\n",
    "            test = pd.read_csv(f\"./dataset/Movielens/{scenario}/test_ml_1m_inc{i}.csv\")\n",
    "            dfs.append((train, test))\n",
    "\n",
    "    return dfs"
   ],
   "metadata": {
    "collapsed": false
   }
  },
  {
   "cell_type": "markdown",
   "source": [
    "## dataloader 정의"
   ],
   "metadata": {
    "collapsed": false
   }
  },
  {
   "cell_type": "code",
   "execution_count": 75,
   "outputs": [],
   "source": [
    "class MovielensDataset(Dataset):\n",
    "    def __init__(self, df):\n",
    "        self.df = df\n",
    "\n",
    "    def __len__(self):\n",
    "        return len(self.df)\n",
    "\n",
    "    def __getitem__(self, idx):\n",
    "        user = self.df.iloc[idx]['user']\n",
    "        item = self.df.iloc[idx]['item']\n",
    "        rating = self.df.iloc[idx]['rating']\n",
    "        return user, item, rating"
   ],
   "metadata": {
    "collapsed": false
   }
  },
  {
   "cell_type": "markdown",
   "source": [],
   "metadata": {
    "collapsed": false
   }
  },
  {
   "cell_type": "markdown",
   "source": [],
   "metadata": {
    "collapsed": false
   }
  },
  {
   "cell_type": "markdown",
   "source": [
    "## 모델 정의"
   ],
   "metadata": {
    "collapsed": false
   }
  },
  {
   "cell_type": "code",
   "execution_count": 76,
   "outputs": [],
   "source": [
    "# NCF 모델\n",
    "class NCF(nn.Module):\n",
    "    def __init__(self, n_users, n_movies, emb_size=8, hidden_size=64):\n",
    "        super(NCF, self).__init__()\n",
    "        self.user_embedding = nn.Embedding(n_users, emb_size)\n",
    "        self.movie_embedding = nn.Embedding(n_movies, emb_size)\n",
    "        self.fc_layers = nn.Sequential(\n",
    "            nn.Linear(emb_size * 2, hidden_size),\n",
    "            nn.ReLU(),\n",
    "            nn.Linear(hidden_size, hidden_size),\n",
    "            nn.ReLU(),\n",
    "            nn.Linear(hidden_size, 1),\n",
    "            nn.Sigmoid()\n",
    "        )\n",
    "\n",
    "    def forward(self, user_input, movie_input):\n",
    "        user_embedded = self.user_embedding(user_input)\n",
    "        movie_embedded = self.movie_embedding(movie_input)\n",
    "        input_concat = torch.cat([user_embedded, movie_embedded], dim=-1)\n",
    "        prediction = self.fc_layers(input_concat)\n",
    "        return prediction"
   ],
   "metadata": {
    "collapsed": false
   }
  },
  {
   "cell_type": "code",
   "execution_count": 77,
   "outputs": [
    {
     "data": {
      "text/plain": "device(type='cuda')"
     },
     "execution_count": 77,
     "metadata": {},
     "output_type": "execute_result"
    }
   ],
   "source": [
    "# gpu 설정\n",
    "use_cuda = True\n",
    "\n",
    "use_cuda = use_cuda and torch.cuda.is_available()\n",
    "device = torch.device(\"cuda\" if use_cuda else \"cpu\")\n",
    "device"
   ],
   "metadata": {
    "collapsed": false
   }
  },
  {
   "cell_type": "markdown",
   "source": [],
   "metadata": {
    "collapsed": false
   }
  },
  {
   "cell_type": "markdown",
   "source": [],
   "metadata": {
    "collapsed": false
   }
  },
  {
   "cell_type": "markdown",
   "source": [],
   "metadata": {
    "collapsed": false
   }
  },
  {
   "cell_type": "markdown",
   "source": [
    "## 모델 train/test 함수 정의"
   ],
   "metadata": {
    "collapsed": false
   }
  },
  {
   "cell_type": "code",
   "execution_count": 78,
   "outputs": [],
   "source": [
    "def train(model, device, train_loader, optimizer, epoch):\n",
    "    model.train()\n",
    "    criterion = nn.BCELoss()\n",
    "\n",
    "    train_loss = 0\n",
    "    for user, item, rating in train_loader:\n",
    "        user, item, rating = user.to(device), item.to(device), rating.to(device)\n",
    "        optimizer.zero_grad()\n",
    "        output = model(user, item).squeeze()\n",
    "        loss = criterion(output, rating.float())\n",
    "        loss.backward()\n",
    "        optimizer.step()\n",
    "        train_loss += loss.item()\n",
    "\n",
    "    train_loss /= len(train_loader)\n",
    "    # print('Train Epoch: {} \\tLoss: {:.6f}'.format(epoch, train_loss))\n",
    "\n",
    "    return train_loss"
   ],
   "metadata": {
    "collapsed": false
   }
  },
  {
   "cell_type": "code",
   "execution_count": 79,
   "outputs": [],
   "source": [
    "def recall_at_k(output, target, k):\n",
    "    if len(output) < k:\n",
    "        k = len(output)\n",
    "    _, idx = torch.topk(output, k=k)\n",
    "    hit = torch.sum(target[idx])\n",
    "    return hit.float() / target.sum().float() if target.sum().float() else torch.Tensor([0])\n",
    "\n",
    "\n",
    "def test(model, device, test_loader, k=20):\n",
    "    model.eval()\n",
    "    criterion = nn.BCELoss()\n",
    "\n",
    "    test_loss = 0\n",
    "    test_recall = 0\n",
    "    with torch.no_grad():\n",
    "        for user, item, rating in test_loader:\n",
    "            user, item, rating = user.to(device), item.to(device), rating.to(device)\n",
    "            output = model(user, item).squeeze()\n",
    "            loss = criterion(output, rating.float())\n",
    "            test_loss += loss.item()\n",
    "            test_recall += recall_at_k(output, rating, k).item()  # recall@20 기준\n",
    "    test_loss /= len(test_loader)\n",
    "    test_recall /= len(test_loader)\n",
    "\n",
    "    return test_loss, test_recall"
   ],
   "metadata": {
    "collapsed": false
   }
  },
  {
   "cell_type": "markdown",
   "source": [],
   "metadata": {
    "collapsed": false
   }
  },
  {
   "cell_type": "markdown",
   "source": [],
   "metadata": {
    "collapsed": false
   }
  },
  {
   "cell_type": "markdown",
   "source": [
    "### 모델 학습\n",
    "\n",
    "1. Naive\n",
    "2. EWC"
   ],
   "metadata": {
    "collapsed": false
   }
  },
  {
   "cell_type": "markdown",
   "source": [
    "1. Naive"
   ],
   "metadata": {
    "collapsed": false
   }
  },
  {
   "cell_type": "markdown",
   "source": [
    "우선 모든 데이터에 대해 incremental training을 하고 test해보자"
   ],
   "metadata": {
    "collapsed": false
   }
  },
  {
   "cell_type": "code",
   "execution_count": 80,
   "outputs": [],
   "source": [
    "### Config..\n",
    "EPOCH = 1\n",
    "SEED = 42\n",
    "BATCH_SIZE = 64\n",
    "N_USER = 6040\n",
    "N_ITEM = 3952"
   ],
   "metadata": {
    "collapsed": false
   }
  },
  {
   "cell_type": "code",
   "execution_count": 81,
   "outputs": [],
   "source": [
    "def getNaiveResultByScenario(scenario):\n",
    "    recall_list = []\n",
    "    dfs = getDataByScenario(scenario)\n",
    "\n",
    "    for i, df in enumerate(dfs):\n",
    "\n",
    "        if i == 0:\n",
    "            # base block train-test\n",
    "\n",
    "            if scenario in [\"increase\", \"fixed\"]:\n",
    "                train_dataset, test_dataset = train_test_split(df, test_size=0.2, random_state=SEED)\n",
    "            elif scenario in [\"user\", \"item\"]:\n",
    "                train_dataset, test_dataset = df\n",
    "\n",
    "            train_dataset = MovielensDataset(train_dataset)\n",
    "            test_dataset = MovielensDataset(test_dataset)\n",
    "            train_loader = DataLoader(train_dataset, batch_size=BATCH_SIZE, shuffle=False)\n",
    "            test_loader = DataLoader(test_dataset, batch_size=BATCH_SIZE, shuffle=False)\n",
    "\n",
    "            # 모델 객체 생성\n",
    "            n_users = N_USER + 1\n",
    "            n_movies = N_ITEM + 1\n",
    "            model = NCF(n_users, n_movies).to(device)\n",
    "            # 옵티마이저 설정\n",
    "            optimizer = optim.Adam(model.parameters(), lr=0.001)\n",
    "\n",
    "            # train\n",
    "            epoch = EPOCH\n",
    "            # print(f\"************** Train Start At TASK{i}\")\n",
    "            for e in tqdm(range(1, epoch + 1)):\n",
    "                train(model, device, train_loader, optimizer, e)\n",
    "\n",
    "            # test\n",
    "            _, recall20 = test(model, device, test_loader)\n",
    "            recall_list.append(recall20)\n",
    "            print(f\"******* At {i} TASK recall20 = {recall20}\\n\")\n",
    "\n",
    "        else:\n",
    "            # inc block train-test\n",
    "\n",
    "            # 데이터 준비\n",
    "            if scenario in [\"increase\", \"fixed\"]:\n",
    "                if i == len(dfs)-1:\n",
    "                    break\n",
    "                train_dataset = df\n",
    "                test_dataset = dfs[i+1]\n",
    "            elif scenario in [\"user\", \"item\"]:\n",
    "                train_dataset, test_dataset = df\n",
    "\n",
    "            train_dataset = MovielensDataset(train_dataset)\n",
    "            test_dataset = MovielensDataset(test_dataset)\n",
    "            train_loader = DataLoader(train_dataset, batch_size=BATCH_SIZE)\n",
    "            test_loader = DataLoader(test_dataset, batch_size=BATCH_SIZE)\n",
    "\n",
    "            # train\n",
    "            epoch = EPOCH\n",
    "            # print(f\"************** Train Start At TASK{i}\")\n",
    "            for e in tqdm(range(1, epoch + 1)):\n",
    "                train(model, device, train_loader, optimizer, e)\n",
    "\n",
    "            # test\n",
    "            _, recall20 = test(model, device, test_loader)\n",
    "            recall_list.append(recall20)\n",
    "            print(f\"******* At {i} TASK recall20 = {recall20}\\n\")\n",
    "\n",
    "    avg_recall = sum(recall_list) / len(recall_list)\n",
    "    print(f\"{scenario} scenario avg recall : {avg_recall}\")\n",
    "    return avg_recall"
   ],
   "metadata": {
    "collapsed": false
   }
  },
  {
   "cell_type": "code",
   "execution_count": 82,
   "outputs": [
    {
     "name": "stdout",
     "output_type": "stream",
     "text": [
      "************** Train Start At TASK0\n"
     ]
    },
    {
     "name": "stderr",
     "output_type": "stream",
     "text": [
      "100%|██████████| 1/1 [01:46<00:00, 106.55s/it]\n"
     ]
    },
    {
     "name": "stdout",
     "output_type": "stream",
     "text": [
      "******* At 0 TASK recall20 = 0.5937409374526778\n",
      "\n",
      "************** Train Start At TASK1\n"
     ]
    },
    {
     "name": "stderr",
     "output_type": "stream",
     "text": [
      "100%|██████████| 1/1 [00:18<00:00, 18.80s/it]\n"
     ]
    },
    {
     "name": "stdout",
     "output_type": "stream",
     "text": [
      "******* At 1 TASK recall20 = 0.5634372855623881\n",
      "\n",
      "************** Train Start At TASK2\n"
     ]
    },
    {
     "name": "stderr",
     "output_type": "stream",
     "text": [
      "100%|██████████| 1/1 [00:18<00:00, 18.86s/it]\n"
     ]
    },
    {
     "name": "stdout",
     "output_type": "stream",
     "text": [
      "******* At 2 TASK recall20 = 0.553460485087909\n",
      "\n",
      "************** Train Start At TASK3\n"
     ]
    },
    {
     "name": "stderr",
     "output_type": "stream",
     "text": [
      "100%|██████████| 1/1 [00:18<00:00, 18.95s/it]\n"
     ]
    },
    {
     "name": "stdout",
     "output_type": "stream",
     "text": [
      "******* At 3 TASK recall20 = 0.5493577886298239\n",
      "\n",
      "************** Train Start At TASK4\n"
     ]
    },
    {
     "name": "stderr",
     "output_type": "stream",
     "text": [
      "100%|██████████| 1/1 [00:17<00:00, 17.99s/it]\n"
     ]
    },
    {
     "name": "stdout",
     "output_type": "stream",
     "text": [
      "******* At 4 TASK recall20 = 0.5621431579140781\n",
      "\n",
      "avg recall : 0.5644279309293754\n",
      "************** Train Start At TASK0\n"
     ]
    },
    {
     "name": "stderr",
     "output_type": "stream",
     "text": [
      "100%|██████████| 1/1 [01:45<00:00, 105.68s/it]\n"
     ]
    },
    {
     "name": "stdout",
     "output_type": "stream",
     "text": [
      "******* At 0 TASK recall20 = 0.588857196148105\n",
      "\n",
      "************** Train Start At TASK1\n"
     ]
    },
    {
     "name": "stderr",
     "output_type": "stream",
     "text": [
      "100%|██████████| 1/1 [00:03<00:00,  3.11s/it]\n"
     ]
    },
    {
     "name": "stdout",
     "output_type": "stream",
     "text": [
      "******* At 1 TASK recall20 = 0.5550626586670073\n",
      "\n",
      "************** Train Start At TASK2\n"
     ]
    },
    {
     "name": "stderr",
     "output_type": "stream",
     "text": [
      "100%|██████████| 1/1 [00:03<00:00,  3.06s/it]\n"
     ]
    },
    {
     "name": "stdout",
     "output_type": "stream",
     "text": [
      "******* At 2 TASK recall20 = 0.5677995259447075\n",
      "\n",
      "************** Train Start At TASK3\n"
     ]
    },
    {
     "name": "stderr",
     "output_type": "stream",
     "text": [
      "100%|██████████| 1/1 [00:02<00:00,  2.95s/it]\n"
     ]
    },
    {
     "name": "stdout",
     "output_type": "stream",
     "text": [
      "******* At 3 TASK recall20 = 0.5612765284620713\n",
      "\n",
      "************** Train Start At TASK4\n"
     ]
    },
    {
     "name": "stderr",
     "output_type": "stream",
     "text": [
      "100%|██████████| 1/1 [00:02<00:00,  2.91s/it]\n"
     ]
    },
    {
     "name": "stdout",
     "output_type": "stream",
     "text": [
      "******* At 4 TASK recall20 = 0.5778286301783312\n",
      "\n",
      "avg recall : 0.5701649078800445\n",
      "************** Train Start At TASK0\n"
     ]
    },
    {
     "name": "stderr",
     "output_type": "stream",
     "text": [
      "100%|██████████| 1/1 [01:01<00:00, 61.02s/it]\n"
     ]
    },
    {
     "name": "stdout",
     "output_type": "stream",
     "text": [
      "******* At 0 TASK recall20 = 0.605008918002399\n",
      "\n",
      "************** Train Start At TASK1\n"
     ]
    },
    {
     "name": "stderr",
     "output_type": "stream",
     "text": [
      "100%|██████████| 1/1 [00:08<00:00,  8.00s/it]\n"
     ]
    },
    {
     "name": "stdout",
     "output_type": "stream",
     "text": [
      "******* At 1 TASK recall20 = 0.6020658220052719\n",
      "\n",
      "************** Train Start At TASK2\n"
     ]
    },
    {
     "name": "stderr",
     "output_type": "stream",
     "text": [
      "100%|██████████| 1/1 [00:08<00:00,  8.03s/it]\n"
     ]
    },
    {
     "name": "stdout",
     "output_type": "stream",
     "text": [
      "******* At 2 TASK recall20 = 0.6103625758235673\n",
      "\n",
      "************** Train Start At TASK3\n"
     ]
    },
    {
     "name": "stderr",
     "output_type": "stream",
     "text": [
      "100%|██████████| 1/1 [00:08<00:00,  8.01s/it]\n"
     ]
    },
    {
     "name": "stdout",
     "output_type": "stream",
     "text": [
      "******* At 3 TASK recall20 = 0.6243716486659183\n",
      "\n",
      "************** Train Start At TASK4\n"
     ]
    },
    {
     "name": "stderr",
     "output_type": "stream",
     "text": [
      "100%|██████████| 1/1 [00:08<00:00,  8.00s/it]\n"
     ]
    },
    {
     "name": "stdout",
     "output_type": "stream",
     "text": [
      "******* At 4 TASK recall20 = 0.6144459252338486\n",
      "\n",
      "************** Train Start At TASK5\n"
     ]
    },
    {
     "name": "stderr",
     "output_type": "stream",
     "text": [
      "100%|██████████| 1/1 [00:07<00:00,  7.82s/it]\n"
     ]
    },
    {
     "name": "stdout",
     "output_type": "stream",
     "text": [
      "******* At 5 TASK recall20 = 0.6139981143387706\n",
      "\n",
      "avg recall : 0.6117088340116293\n",
      "************** Train Start At TASK0\n"
     ]
    },
    {
     "name": "stderr",
     "output_type": "stream",
     "text": [
      "100%|██████████| 1/1 [00:59<00:00, 59.14s/it]\n"
     ]
    },
    {
     "name": "stdout",
     "output_type": "stream",
     "text": [
      "******* At 0 TASK recall20 = 0.5969068802459572\n",
      "\n",
      "************** Train Start At TASK1\n"
     ]
    },
    {
     "name": "stderr",
     "output_type": "stream",
     "text": [
      "100%|██████████| 1/1 [00:08<00:00,  8.86s/it]\n"
     ]
    },
    {
     "name": "stdout",
     "output_type": "stream",
     "text": [
      "******* At 1 TASK recall20 = 0.5978607783517039\n",
      "\n",
      "************** Train Start At TASK2\n"
     ]
    },
    {
     "name": "stderr",
     "output_type": "stream",
     "text": [
      "100%|██████████| 1/1 [00:07<00:00,  7.90s/it]\n"
     ]
    },
    {
     "name": "stdout",
     "output_type": "stream",
     "text": [
      "******* At 2 TASK recall20 = 0.6189047288728425\n",
      "\n",
      "************** Train Start At TASK3\n"
     ]
    },
    {
     "name": "stderr",
     "output_type": "stream",
     "text": [
      "100%|██████████| 1/1 [00:07<00:00,  7.85s/it]\n"
     ]
    },
    {
     "name": "stdout",
     "output_type": "stream",
     "text": [
      "******* At 3 TASK recall20 = 0.6222622150182724\n",
      "\n",
      "************** Train Start At TASK4\n"
     ]
    },
    {
     "name": "stderr",
     "output_type": "stream",
     "text": [
      "100%|██████████| 1/1 [00:07<00:00,  7.91s/it]\n"
     ]
    },
    {
     "name": "stdout",
     "output_type": "stream",
     "text": [
      "******* At 4 TASK recall20 = 0.6193636810162153\n",
      "\n",
      "************** Train Start At TASK5\n"
     ]
    },
    {
     "name": "stderr",
     "output_type": "stream",
     "text": [
      "100%|██████████| 1/1 [00:08<00:00,  8.07s/it]\n"
     ]
    },
    {
     "name": "stdout",
     "output_type": "stream",
     "text": [
      "******* At 5 TASK recall20 = 0.6263254019281557\n",
      "\n",
      "avg recall : 0.6136039475721912\n"
     ]
    }
   ],
   "source": [
    "naiveIncrease = getNaiveResultByScenario(\"increase\")\n",
    "naivefixed = getNaiveResultByScenario(\"fixed\")\n",
    "naiveUser = getNaiveResultByScenario(\"user\")\n",
    "naiveItem = getNaiveResultByScenario(\"item\")"
   ],
   "metadata": {
    "collapsed": false
   }
  },
  {
   "cell_type": "markdown",
   "source": [],
   "metadata": {
    "collapsed": false
   }
  },
  {
   "cell_type": "markdown",
   "source": [],
   "metadata": {
    "collapsed": false
   }
  },
  {
   "cell_type": "markdown",
   "source": [
    "2. EWC"
   ],
   "metadata": {
    "collapsed": false
   }
  },
  {
   "cell_type": "code",
   "execution_count": 83,
   "outputs": [],
   "source": [
    "# Task가 끝날 때 마다 optpar와 fisher를 저장해주는 함수.\n",
    "def on_task_update(model, device, train_loader, optimizer, task_id, fisher_dict, optpar_dict):\n",
    "    model.train()\n",
    "    criterion = nn.BCELoss()\n",
    "    optimizer.zero_grad()\n",
    "\n",
    "    # accumulating gradients\n",
    "    for user, item, rating in train_loader:\n",
    "        user, item, rating = user.to(device), item.to(device), rating.to(device)\n",
    "        output = model(user, item).squeeze()\n",
    "        loss = criterion(output, rating.float())\n",
    "        loss.backward()\n",
    "\n",
    "    fisher_dict[task_id] = {}\n",
    "    optpar_dict[task_id] = {}\n",
    "\n",
    "    # gradients accumulated can be used to calculate fisher\n",
    "    for name, param in model.named_parameters():\n",
    "        fisher_dict[task_id][name] = param.grad.data.clone().pow(2)  # 누적 grad 값\n",
    "        optpar_dict[task_id][name] = param.data.clone()  # 최적 grad 값"
   ],
   "metadata": {
    "collapsed": false
   }
  },
  {
   "cell_type": "code",
   "execution_count": 84,
   "outputs": [],
   "source": [
    "# EWC를 적용한 train 함수\n",
    "def train_ewc(model, device, train_loader, optimizer, epoch, task_id, fisher_dict, optpar_dict, ewc_lambda):\n",
    "    model.train()\n",
    "    criterion = nn.BCELoss()\n",
    "\n",
    "    train_loss = 0\n",
    "    for user, item, rating in train_loader:\n",
    "        user, item, rating = user.to(device), item.to(device), rating.to(device)\n",
    "        optimizer.zero_grad()\n",
    "        output = model(user, item).squeeze()\n",
    "        loss = criterion(output, rating.float())\n",
    "        train_loss += loss.item()\n",
    "\n",
    "        # EWC 적용 부분\n",
    "        for task in range(task_id):\n",
    "            for name, param in model.named_parameters():\n",
    "                fisher = fisher_dict[task][name]\n",
    "                optpar = optpar_dict[task][name]\n",
    "                train_loss += (fisher * (optpar - param).pow(2)).sum() * ewc_lambda\n",
    "\n",
    "        loss.backward()\n",
    "        optimizer.step()\n",
    "\n",
    "    train_loss /= len(train_loader)\n",
    "    # print('Train Epoch: {} \\tLoss: {:.6f}'.format(epoch, train_loss))\n",
    "\n",
    "    return train_loss"
   ],
   "metadata": {
    "collapsed": false
   }
  },
  {
   "cell_type": "code",
   "execution_count": 85,
   "outputs": [],
   "source": [
    "def getEWCResultByScenario(scenario):\n",
    "    recall_list = []\n",
    "    dfs = getDataByScenario(scenario)\n",
    "    # EWC에 필요한 변수\n",
    "    fisher_dict = {}\n",
    "    optpar_dict = {}\n",
    "    ewc_lambda = 0.4  # ewc 강도 조절.. 높을수록 이전 파라미터의 중요도가 높아짐\n",
    "\n",
    "    for i, df in enumerate(dfs):\n",
    "        if i == 0:\n",
    "            # base block train-test\n",
    "\n",
    "            if scenario in [\"increase\", \"fixed\"]:\n",
    "                train_dataset, test_dataset = train_test_split(df, test_size=0.2, random_state=SEED)\n",
    "            elif scenario in [\"user\", \"item\"]:\n",
    "                train_dataset, test_dataset = df\n",
    "\n",
    "            train_dataset = MovielensDataset(train_dataset)\n",
    "            test_dataset = MovielensDataset(test_dataset)\n",
    "            train_loader = DataLoader(train_dataset, batch_size=BATCH_SIZE, shuffle=False)\n",
    "            test_loader = DataLoader(test_dataset, batch_size=BATCH_SIZE, shuffle=False)\n",
    "\n",
    "\n",
    "\n",
    "            # 모델 객체 생성\n",
    "            n_users = N_USER + 1\n",
    "            n_movies = N_ITEM + 1\n",
    "            model = NCF(n_users, n_movies).to(device)\n",
    "            # 옵티마이저 설정\n",
    "            optimizer = optim.Adam(model.parameters(), lr=0.001)\n",
    "\n",
    "            # train\n",
    "            epoch = EPOCH\n",
    "            # print(f\"************** Train Start At TASK{i}\")\n",
    "            for e in tqdm(range(1, epoch + 1)):\n",
    "                train_ewc(model, device, train_loader, optimizer, e, i, fisher_dict, optpar_dict, ewc_lambda)\n",
    "            on_task_update(model, device, train_loader, optimizer, i, fisher_dict, optpar_dict)\n",
    "\n",
    "            # test\n",
    "            _, recall20 = test(model, device, test_loader)\n",
    "            recall_list.append(recall20)\n",
    "            print(f\"******* At {i} TASK recall20 = {recall20}\\n\")\n",
    "\n",
    "        else:\n",
    "            # inc block train-test\n",
    "\n",
    "            # 데이터 준비\n",
    "            if scenario in [\"increase\", \"fixed\"]:\n",
    "                if i == len(dfs)-1:\n",
    "                    break\n",
    "                train_dataset = df\n",
    "                test_dataset = dfs[i+1]\n",
    "            elif scenario in [\"user\", \"item\"]:\n",
    "                train_dataset, test_dataset = df\n",
    "\n",
    "            train_dataset = MovielensDataset(train_dataset)\n",
    "            test_dataset = MovielensDataset(test_dataset)\n",
    "            train_loader = DataLoader(train_dataset, batch_size=BATCH_SIZE)\n",
    "            test_loader = DataLoader(test_dataset, batch_size=BATCH_SIZE)\n",
    "\n",
    "            # train\n",
    "            epoch = EPOCH\n",
    "            # print(f\"************** Train Start At TASK{i}\")\n",
    "            for e in tqdm(range(1, epoch + 1)):\n",
    "                train_ewc(model, device, train_loader, optimizer, e, i, fisher_dict, optpar_dict, ewc_lambda)\n",
    "            on_task_update(model, device, train_loader, optimizer, i, fisher_dict, optpar_dict)\n",
    "\n",
    "            # test\n",
    "            _, recall20 = test(model, device, test_loader)\n",
    "            recall_list.append(recall20)\n",
    "            print(f\"******* At {i} TASK recall20 = {recall20}\\n\")\n",
    "\n",
    "    avg_recall = sum(recall_list) / len(recall_list)\n",
    "    print(f\"{scenario} scenario avg recall : {avg_recall}\")\n",
    "    return avg_recall"
   ],
   "metadata": {
    "collapsed": false
   }
  },
  {
   "cell_type": "code",
   "execution_count": null,
   "outputs": [
    {
     "name": "stdout",
     "output_type": "stream",
     "text": [
      "************** Train Start At TASK0\n"
     ]
    },
    {
     "name": "stderr",
     "output_type": "stream",
     "text": [
      "100%|██████████| 1/1 [01:37<00:00, 97.79s/it]\n"
     ]
    },
    {
     "name": "stdout",
     "output_type": "stream",
     "text": [
      "******* At 0 TASK recall20 = 0.5911402050594691\n",
      "\n",
      "************** Train Start At TASK1\n"
     ]
    },
    {
     "name": "stderr",
     "output_type": "stream",
     "text": [
      "100%|██████████| 1/1 [00:18<00:00, 18.29s/it]\n"
     ]
    },
    {
     "name": "stdout",
     "output_type": "stream",
     "text": [
      "******* At 1 TASK recall20 = 0.5559481129205351\n",
      "\n",
      "************** Train Start At TASK2\n"
     ]
    },
    {
     "name": "stderr",
     "output_type": "stream",
     "text": [
      "100%|██████████| 1/1 [00:19<00:00, 19.21s/it]\n"
     ]
    },
    {
     "name": "stdout",
     "output_type": "stream",
     "text": [
      "******* At 2 TASK recall20 = 0.5543338411612163\n",
      "\n",
      "************** Train Start At TASK3\n"
     ]
    },
    {
     "name": "stderr",
     "output_type": "stream",
     "text": [
      "100%|██████████| 1/1 [00:20<00:00, 20.39s/it]\n"
     ]
    },
    {
     "name": "stdout",
     "output_type": "stream",
     "text": [
      "******* At 3 TASK recall20 = 0.5494031014921572\n",
      "\n",
      "************** Train Start At TASK4\n"
     ]
    },
    {
     "name": "stderr",
     "output_type": "stream",
     "text": [
      "100%|██████████| 1/1 [00:22<00:00, 22.72s/it]\n"
     ]
    },
    {
     "name": "stdout",
     "output_type": "stream",
     "text": [
      "******* At 4 TASK recall20 = 0.5664144688314968\n",
      "\n",
      "avg recall : 0.5634479458929749\n",
      "************** Train Start At TASK0\n"
     ]
    },
    {
     "name": "stderr",
     "output_type": "stream",
     "text": [
      "100%|██████████| 1/1 [01:38<00:00, 98.14s/it]\n"
     ]
    }
   ],
   "source": [
    "ewcIncrease = getEWCResultByScenario(\"increase\")\n",
    "ewcfixed = getEWCResultByScenario(\"fixed\")\n",
    "ewcUser = getEWCResultByScenario(\"user\")\n",
    "ewcItem = getEWCResultByScenario(\"item\")"
   ],
   "metadata": {
    "collapsed": false,
    "pycharm": {
     "is_executing": true
    }
   }
  },
  {
   "cell_type": "code",
   "execution_count": null,
   "outputs": [],
   "source": [
    "print(f\"\"\"\n",
    "naiveIncrease: {naiveIncrease}\n",
    "naivefixed: {naivefixed}\n",
    "naiveUser: {naiveUser}\n",
    "naiveItem\" {naiveItem}\n",
    "\"\"\")"
   ],
   "metadata": {
    "collapsed": false,
    "pycharm": {
     "is_executing": true
    }
   }
  },
  {
   "cell_type": "code",
   "execution_count": null,
   "outputs": [],
   "source": [
    "print(f\"\"\"\n",
    "ewcIncrease: {ewcIncrease}\n",
    "ewcfixed: {ewcfixed}\n",
    "ewcUser: {ewcUser}\n",
    "ewcItem\" {ewcItem}\n",
    "\"\"\")"
   ],
   "metadata": {
    "collapsed": false,
    "pycharm": {
     "is_executing": true
    }
   }
  },
  {
   "cell_type": "code",
   "execution_count": null,
   "outputs": [],
   "source": [
    "print(f\"\"\"\n",
    "{ewcIncrease-naiveIncrease}\n",
    "{ewcfixed-naivefixed}\n",
    "{ewcUser-naiveUser}\n",
    "{ewcItem-naiveItem}\n",
    "\"\"\")"
   ],
   "metadata": {
    "collapsed": false,
    "pycharm": {
     "is_executing": true
    }
   }
  }
 ],
 "metadata": {
  "kernelspec": {
   "display_name": "Python 3",
   "language": "python",
   "name": "python3"
  },
  "language_info": {
   "codemirror_mode": {
    "name": "ipython",
    "version": 2
   },
   "file_extension": ".py",
   "mimetype": "text/x-python",
   "name": "python",
   "nbconvert_exporter": "python",
   "pygments_lexer": "ipython2",
   "version": "2.7.6"
  }
 },
 "nbformat": 4,
 "nbformat_minor": 0
}
