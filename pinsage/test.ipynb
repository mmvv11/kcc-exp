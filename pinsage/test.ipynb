{
 "cells": [
  {
   "cell_type": "code",
   "execution_count": 1,
   "metadata": {
    "collapsed": true
   },
   "outputs": [],
   "source": [
    "import pickle"
   ]
  },
  {
   "cell_type": "code",
   "execution_count": 2,
   "outputs": [
    {
     "data": {
      "text/plain": "{'val-matrix': <6040x3706 sparse matrix of type '<class 'numpy.int64'>'\n \twith 6040 stored elements in COOrdinate format>,\n 'test-matrix': <6040x3706 sparse matrix of type '<class 'numpy.int64'>'\n \twith 6040 stored elements in COOrdinate format>,\n 'item-texts': {'title': array(['Toy Story', 'Jumanji', 'Grumpier Old Men', ..., 'Tigerland',\n         'Two Family House', 'Contender, The'], dtype=object)},\n 'item-images': None,\n 'user-type': 'user',\n 'item-type': 'movie',\n 'user-to-item-type': 'watched',\n 'item-to-user-type': 'watched-by',\n 'timestamp-edge-column': 'timestamp'}"
     },
     "execution_count": 2,
     "metadata": {},
     "output_type": "execute_result"
    }
   ],
   "source": [
    "with open(\"data.pkl\", 'rb') as f:\n",
    "    obj = pickle.load(f)\n",
    "\n",
    "obj"
   ],
   "metadata": {
    "collapsed": false
   }
  },
  {
   "cell_type": "code",
   "execution_count": 6,
   "outputs": [],
   "source": [
    "import pandas as pd"
   ],
   "metadata": {
    "collapsed": false
   }
  },
  {
   "cell_type": "code",
   "execution_count": 7,
   "outputs": [
    {
     "data": {
      "text/plain": "{'val-matrix': <6040x3706 sparse matrix of type '<class 'numpy.int64'>'\n \twith 6040 stored elements in COOrdinate format>,\n 'test-matrix': <6040x3706 sparse matrix of type '<class 'numpy.int64'>'\n \twith 6040 stored elements in COOrdinate format>,\n 'item-texts': {'title': array(['Toy Story', 'Jumanji', 'Grumpier Old Men', ..., 'Tigerland',\n         'Two Family House', 'Contender, The'], dtype=object)},\n 'item-images': None,\n 'user-type': 'user',\n 'item-type': 'movie',\n 'user-to-item-type': 'watched',\n 'item-to-user-type': 'watched-by',\n 'timestamp-edge-column': 'timestamp'}"
     },
     "execution_count": 7,
     "metadata": {},
     "output_type": "execute_result"
    }
   ],
   "source": [
    "df = pd.read_pickle(\"data.pkl\")\n",
    "df"
   ],
   "metadata": {
    "collapsed": false
   }
  },
  {
   "cell_type": "code",
   "execution_count": 8,
   "outputs": [],
   "source": [
    "import torch"
   ],
   "metadata": {
    "collapsed": false
   }
  },
  {
   "cell_type": "code",
   "execution_count": 9,
   "outputs": [
    {
     "data": {
      "text/plain": "True"
     },
     "execution_count": 9,
     "metadata": {},
     "output_type": "execute_result"
    }
   ],
   "source": [
    "torch.cuda.is_available()"
   ],
   "metadata": {
    "collapsed": false
   }
  },
  {
   "cell_type": "code",
   "execution_count": null,
   "outputs": [],
   "source": [],
   "metadata": {
    "collapsed": false
   }
  }
 ],
 "metadata": {
  "kernelspec": {
   "display_name": "Python 3",
   "language": "python",
   "name": "python3"
  },
  "language_info": {
   "codemirror_mode": {
    "name": "ipython",
    "version": 2
   },
   "file_extension": ".py",
   "mimetype": "text/x-python",
   "name": "python",
   "nbconvert_exporter": "python",
   "pygments_lexer": "ipython2",
   "version": "2.7.6"
  }
 },
 "nbformat": 4,
 "nbformat_minor": 0
}
