{
 "cells": [
  {
   "cell_type": "code",
   "execution_count": 1,
   "metadata": {
    "collapsed": true
   },
   "outputs": [],
   "source": []
  },
  {
   "cell_type": "code",
   "execution_count": 63,
   "outputs": [
    {
     "data": {
      "text/plain": "{'train-graph': Graph(num_nodes={'movie': 3706, 'user': 6040},\n       num_edges={('movie', 'watched-by', 'user'): 1000209, ('user', 'watched', 'movie'): 1000209},\n       metagraph=[('movie', 'user', 'watched-by'), ('user', 'movie', 'watched')]),\n 'item-images': None,\n 'user-type': 'user',\n 'item-type': 'movie',\n 'user-to-item-type': 'watched',\n 'item-to-user-type': 'watched-by',\n 'timestamp-edge-column': 'timestamp'}"
     },
     "execution_count": 63,
     "metadata": {},
     "output_type": "execute_result"
    }
   ],
   "source": [
    "with open(\"graph_data.pickle\", 'rb') as f:\n",
    "    data = pickle.load(f)\n",
    "\n",
    "data"
   ],
   "metadata": {
    "collapsed": false
   }
  },
  {
   "cell_type": "code",
   "execution_count": 164,
   "outputs": [],
   "source": [
    "g = data['train-graph']\n",
    "user_type = data['user-type']\n",
    "item_type = data['item-type']"
   ],
   "metadata": {
    "collapsed": false
   }
  },
  {
   "cell_type": "code",
   "execution_count": 165,
   "outputs": [
    {
     "data": {
      "text/plain": "3706"
     },
     "execution_count": 165,
     "metadata": {},
     "output_type": "execute_result"
    }
   ],
   "source": [
    "g.number_of_nodes(item_type)"
   ],
   "metadata": {
    "collapsed": false
   }
  },
  {
   "cell_type": "code",
   "execution_count": 166,
   "outputs": [],
   "source": [
    "user_to_item_etype =list(g.metagraph()[user_type][item_type])[0]\n",
    "item_to_user_etype =list(g.metagraph()[item_type][user_type])[0]"
   ],
   "metadata": {
    "collapsed": false
   }
  },
  {
   "cell_type": "code",
   "execution_count": 167,
   "outputs": [],
   "source": [
    "import torch"
   ],
   "metadata": {
    "collapsed": false
   }
  },
  {
   "cell_type": "code",
   "execution_count": 168,
   "outputs": [],
   "source": [
    "a = torch.randint(0, g.number_of_nodes(item_type), (256,)) # 랜덤 아이템 노드를 뽑았고"
   ],
   "metadata": {
    "collapsed": false
   }
  },
  {
   "cell_type": "code",
   "execution_count": 169,
   "outputs": [],
   "source": [
    "import dgl"
   ],
   "metadata": {
    "collapsed": false
   }
  },
  {
   "cell_type": "code",
   "execution_count": 170,
   "outputs": [],
   "source": [
    "result = dgl.sampling.random_walk(g, a, metapath=[item_to_user_etype, user_to_item_etype])"
   ],
   "metadata": {
    "collapsed": false
   }
  },
  {
   "cell_type": "code",
   "execution_count": 171,
   "outputs": [
    {
     "data": {
      "text/plain": "256"
     },
     "execution_count": 171,
     "metadata": {},
     "output_type": "execute_result"
    }
   ],
   "source": [
    "mask = (result[0][:, 2] != -1)\n",
    "len(mask)"
   ],
   "metadata": {
    "collapsed": false
   }
  },
  {
   "cell_type": "code",
   "execution_count": 173,
   "outputs": [],
   "source": [
    "random_walk_length=2\n",
    "random_walk_restart_prob = 0.5\n",
    "num_random_walks = 10\n",
    "num_neighbors = 3"
   ],
   "metadata": {
    "collapsed": false
   }
  },
  {
   "cell_type": "code",
   "execution_count": 174,
   "outputs": [
    {
     "data": {
      "text/plain": "<dgl.sampling.pinsage.PinSAGESampler at 0x24628ca0f70>"
     },
     "execution_count": 174,
     "metadata": {},
     "output_type": "execute_result"
    }
   ],
   "source": [
    "dgl.sampling.PinSAGESampler(g, item_type, user_type, random_walk_length,\n",
    "                                        random_walk_restart_prob, num_random_walks, num_neighbors)"
   ],
   "metadata": {
    "collapsed": false
   }
  },
  {
   "cell_type": "code",
   "execution_count": null,
   "outputs": [],
   "source": [],
   "metadata": {
    "collapsed": false
   }
  },
  {
   "cell_type": "code",
   "execution_count": 176,
   "outputs": [],
   "source": [
    "import scipy"
   ],
   "metadata": {
    "collapsed": false
   }
  },
  {
   "cell_type": "code",
   "execution_count": 187,
   "outputs": [
    {
     "data": {
      "text/plain": "Graph(num_nodes={'A': 3000, 'B': 5000},\n      num_edges={('A', 'AB', 'B'): 45000, ('B', 'BA', 'A'): 45000},\n      metagraph=[('A', 'B', 'AB'), ('B', 'A', 'BA')])"
     },
     "execution_count": 187,
     "metadata": {},
     "output_type": "execute_result"
    }
   ],
   "source": [
    "g = scipy.sparse.random(3000, 5000, 0.003)\n",
    "# 3000 by 5000 의 sparse matrix. 0과 1사이의 값을 가지며, 0이 아닌 확률은 0.003인 베르누이 확률분포를 따른다.\n",
    "\n",
    "# g는 인접행렬 역할을 하고.. nonzero 값을 뽑으면 edge가 된다고 볼 수 있다.\n",
    "G = dgl.heterograph({\n",
    "    ('A', 'AB', 'B'): g.nonzero(),\n",
    "    ('B', 'BA', 'A'): g.T.nonzero()})\n",
    "\n",
    "G"
   ],
   "metadata": {
    "collapsed": false
   }
  },
  {
   "cell_type": "code",
   "execution_count": 188,
   "outputs": [
    {
     "data": {
      "text/plain": "(array([ 606, 2043,  397, ...,  976, 1086, 2745]),\n array([2884,   82, 1197, ...,  952, 2011, 4863], dtype=int32))"
     },
     "execution_count": 188,
     "metadata": {},
     "output_type": "execute_result"
    }
   ],
   "source": [
    "g.nonzero()"
   ],
   "metadata": {
    "collapsed": false
   }
  },
  {
   "cell_type": "code",
   "execution_count": 185,
   "outputs": [],
   "source": [
    "# 'A'라는 노드타입으로 이루어진 호모지니어스한 그래프를 만들어낼 것.\n",
    "# 각 노드는 최대 10개의 이웃을 가지도록 한다.\n",
    "sampler = dgl.sampling.PinSAGESampler(G, 'A', 'B', 3, 0.5, 200, 10)"
   ],
   "metadata": {
    "collapsed": false
   }
  },
  {
   "cell_type": "code",
   "execution_count": 205,
   "outputs": [
    {
     "data": {
      "text/plain": "(tensor([   0, 1020,  519, 1623, 1349,  959, 1603,  689,   28, 2143,    1, 1625,\n         1110, 1624, 1472,    3, 2648, 2645, 2080, 1801,    2,  497, 2986, 2367,\n         2353, 1942, 1864,  311, 2805, 2766,    3, 2906, 2310, 1873,  567,   21,\n         2648, 1991, 1338, 1009,    4, 1802,  238,  157, 1266,    3, 2585, 2072,\n         1880, 1735]),\n tensor([0, 0, 0, 0, 0, 0, 0, 0, 0, 0, 1, 1, 1, 1, 1, 1, 1, 1, 1, 1, 2, 2, 2, 2,\n         2, 2, 2, 2, 2, 2, 3, 3, 3, 3, 3, 3, 3, 3, 3, 3, 4, 4, 4, 4, 4, 4, 4, 4,\n         4, 4]))"
     },
     "execution_count": 205,
     "metadata": {},
     "output_type": "execute_result"
    }
   ],
   "source": [
    "# 0, 1, 2 번 'A' 노드의 이웃을 샘플링\n",
    "seeds = torch.LongTensor([0, 1, 2, 3,4])\n",
    "frontier = sampler(seeds)\n",
    "frontier.all_edges(form='uv')"
   ],
   "metadata": {
    "collapsed": false
   }
  },
  {
   "cell_type": "code",
   "execution_count": null,
   "outputs": [],
   "source": [],
   "metadata": {
    "collapsed": false
   }
  },
  {
   "cell_type": "code",
   "execution_count": null,
   "outputs": [],
   "source": [],
   "metadata": {
    "collapsed": false
   }
  },
  {
   "cell_type": "code",
   "execution_count": 3,
   "outputs": [],
   "source": [
    "import torch\n",
    "import torch.nn as nn\n",
    "import pickle"
   ],
   "metadata": {
    "collapsed": false
   }
  },
  {
   "cell_type": "code",
   "execution_count": 4,
   "outputs": [
    {
     "data": {
      "text/plain": "{'train-graph': Graph(num_nodes={'movie': 3706, 'user': 6040},\n       num_edges={('movie', 'watched-by', 'user'): 1000209, ('user', 'watched', 'movie'): 1000209},\n       metagraph=[('movie', 'user', 'watched-by'), ('user', 'movie', 'watched')]),\n 'item-images': None,\n 'user-type': 'user',\n 'item-type': 'movie',\n 'user-to-item-type': 'watched',\n 'item-to-user-type': 'watched-by',\n 'timestamp-edge-column': 'timestamp'}"
     },
     "execution_count": 4,
     "metadata": {},
     "output_type": "execute_result"
    }
   ],
   "source": [
    "with open(\"graph_data.pickle\", 'rb') as f:\n",
    "    dataset = pickle.load(f)"
   ],
   "metadata": {
    "collapsed": false
   }
  },
  {
   "cell_type": "code",
   "execution_count": 5,
   "outputs": [],
   "source": [
    "g = dataset['train-graph']  # dgl graph\n",
    "user_ntype = dataset['user-type']  # 'user'\n",
    "item_ntype = dataset['item-type']  # 'movie'\n",
    "device = torch.device(\"cuda\")"
   ],
   "metadata": {
    "collapsed": false
   }
  },
  {
   "cell_type": "code",
   "execution_count": 8,
   "outputs": [],
   "source": [
    "from sampler import ItemToItemBatchSampler, NeighborSampler, PinSAGECollator\n",
    "from torch.utils.data import DataLoader"
   ],
   "metadata": {
    "collapsed": false
   }
  },
  {
   "cell_type": "code",
   "execution_count": 9,
   "outputs": [],
   "source": [
    "# sampling\n",
    "neighbor_sampler = NeighborSampler(\n",
    "        g, user_ntype, item_ntype, 2,\n",
    "        0.5, 10, 3,\n",
    "        2)  # user의 이웃 노드를 핀세이지 알고리즘으로 샘플링\n",
    "\n",
    "collator = PinSAGECollator(neighbor_sampler, g, item_ntype)\n",
    "\n",
    "dataloader_test = DataLoader(\n",
    "    torch.arange(g.number_of_nodes(item_ntype)),\n",
    "    batch_size=256,\n",
    "    collate_fn=collator.collate_test,\n",
    "    num_workers=0)"
   ],
   "metadata": {
    "collapsed": false
   }
  },
  {
   "cell_type": "code",
   "execution_count": 13,
   "outputs": [],
   "source": [
    "checkpoint = torch.load(\"model.pt\")\n",
    "model_state_dict = checkpoint['model']"
   ],
   "metadata": {
    "collapsed": false
   }
  },
  {
   "cell_type": "code",
   "execution_count": 14,
   "outputs": [],
   "source": [
    "from model import PinSAGEModel"
   ],
   "metadata": {
    "collapsed": false
   }
  },
  {
   "cell_type": "code",
   "execution_count": 15,
   "outputs": [],
   "source": [
    "model = PinSAGEModel(g, item_ntype, 100, 2).to(device)"
   ],
   "metadata": {
    "collapsed": false
   }
  },
  {
   "cell_type": "code",
   "execution_count": 16,
   "outputs": [
    {
     "data": {
      "text/plain": "<All keys matched successfully>"
     },
     "execution_count": 16,
     "metadata": {},
     "output_type": "execute_result"
    }
   ],
   "source": [
    "model.load_state_dict(model_state_dict)"
   ],
   "metadata": {
    "collapsed": false
   }
  },
  {
   "cell_type": "code",
   "execution_count": 21,
   "outputs": [
    {
     "name": "stderr",
     "output_type": "stream",
     "text": [
      "C:\\Users\\PC\\.conda\\envs\\pin\\lib\\site-packages\\dgl\\backend\\pytorch\\tensor.py:445: UserWarning: TypedStorage is deprecated. It will be removed in the future and UntypedStorage will be the only storage class. This should only matter to you if you are using storages directly.  To access UntypedStorage directly, use tensor.untyped_storage() instead of tensor.storage()\n",
      "  assert input.numel() == input.storage().size(), (\n"
     ]
    }
   ],
   "source": [
    "model.eval()\n",
    "with torch.no_grad():\n",
    "    h_item_batches = []\n",
    "    for blocks in dataloader_test:\n",
    "        blocks = [block.to(device) for block in blocks]\n",
    "        h_item_batches.append(model.get_representation(blocks))\n",
    "    h_item = torch.cat(h_item_batches, 0)\n"
   ],
   "metadata": {
    "collapsed": false
   }
  },
  {
   "cell_type": "markdown",
   "source": [
    "이건 아이템 임베딩인 것 같고."
   ],
   "metadata": {
    "collapsed": false
   }
  },
  {
   "cell_type": "code",
   "execution_count": 24,
   "outputs": [],
   "source": [
    "from scipy import spatial"
   ],
   "metadata": {
    "collapsed": false
   }
  },
  {
   "cell_type": "code",
   "execution_count": 42,
   "outputs": [
    {
     "data": {
      "text/plain": "tensor([[-0.0205,  0.1565, -0.4017,  ..., -0.4634,  0.2782,  0.5463],\n        [ 0.0835,  0.4176, -0.0970,  ..., -0.1294, -0.0708,  0.7626],\n        [-0.1577,  0.1498, -0.4123,  ..., -0.2008,  0.1950,  0.4759],\n        ...,\n        [ 0.0964,  0.0837,  0.0607,  ..., -0.1032,  0.0800,  0.1806],\n        [ 0.0964,  0.0489,  0.0607,  ..., -0.1032,  0.1006,  0.1938],\n        [-0.0273,  0.0806, -0.0971,  ..., -0.1966,  0.2641,  0.1684]],\n       device='cuda:0')"
     },
     "execution_count": 42,
     "metadata": {},
     "output_type": "execute_result"
    }
   ],
   "source": [
    "# item 임베딩\n",
    "h_item"
   ],
   "metadata": {
    "collapsed": false
   }
  },
  {
   "cell_type": "code",
   "execution_count": 20,
   "outputs": [
    {
     "data": {
      "text/plain": "torch.Size([3706, 100])"
     },
     "execution_count": 20,
     "metadata": {},
     "output_type": "execute_result"
    }
   ],
   "source": [
    "h_item.shape"
   ],
   "metadata": {
    "collapsed": false
   }
  },
  {
   "cell_type": "code",
   "execution_count": 23,
   "outputs": [
    {
     "data": {
      "text/plain": "3706"
     },
     "execution_count": 23,
     "metadata": {},
     "output_type": "execute_result"
    }
   ],
   "source": [
    "g.number_of_nodes(item_ntype)"
   ],
   "metadata": {
    "collapsed": false
   }
  },
  {
   "cell_type": "code",
   "execution_count": 26,
   "outputs": [
    {
     "data": {
      "text/plain": "<scipy.spatial._kdtree.KDTree at 0x2d44c01c540>"
     },
     "execution_count": 26,
     "metadata": {},
     "output_type": "execute_result"
    }
   ],
   "source": [
    "tree = spatial.KDTree(h_item.tolist())\n",
    "tree"
   ],
   "metadata": {
    "collapsed": false
   }
  },
  {
   "cell_type": "code",
   "execution_count": null,
   "outputs": [],
   "source": [],
   "metadata": {
    "collapsed": false
   }
  },
  {
   "cell_type": "code",
   "execution_count": null,
   "outputs": [],
   "source": [],
   "metadata": {
    "collapsed": false
   }
  },
  {
   "cell_type": "code",
   "execution_count": null,
   "outputs": [],
   "source": [],
   "metadata": {
    "collapsed": false
   }
  },
  {
   "cell_type": "code",
   "execution_count": 29,
   "outputs": [
    {
     "name": "stdout",
     "output_type": "stream",
     "text": [
      "가장 가까운 이웃의 인덱스:  [0]\n",
      "가장 가까운 이웃과의 거리:  [2.23606798]\n",
      "가장 가까운 이웃:  [[2 3]]\n"
     ]
    }
   ],
   "source": [
    "import numpy as np\n",
    "# 2D 데이터 생성\n",
    "data = np.array([(2, 3), (5, 4), (9, 6), (4, 7), (8, 1), (7, 2)])\n",
    "\n",
    "# KDTree 생성\n",
    "kdtree = spatial.KDTree(data)\n",
    "\n",
    "# 새로운 데이터 포인트 생성\n",
    "new_point = np.array([(3, 5)])\n",
    "\n",
    "# KDTree에서 가장 가까운 이웃 검색\n",
    "distance, index = kdtree.query(new_point)\n",
    "\n",
    "# 결과 출력\n",
    "print(\"가장 가까운 이웃의 인덱스: \", index)\n",
    "print(\"가장 가까운 이웃과의 거리: \", distance)\n",
    "print(\"가장 가까운 이웃: \", data[index])"
   ],
   "metadata": {
    "collapsed": false
   }
  },
  {
   "cell_type": "code",
   "execution_count": null,
   "outputs": [],
   "source": [],
   "metadata": {
    "collapsed": false
   }
  }
 ],
 "metadata": {
  "kernelspec": {
   "display_name": "Python 3",
   "language": "python",
   "name": "python3"
  },
  "language_info": {
   "codemirror_mode": {
    "name": "ipython",
    "version": 2
   },
   "file_extension": ".py",
   "mimetype": "text/x-python",
   "name": "python",
   "nbconvert_exporter": "python",
   "pygments_lexer": "ipython2",
   "version": "2.7.6"
  }
 },
 "nbformat": 4,
 "nbformat_minor": 0
}
