{
 "cells": [
  {
   "cell_type": "code",
   "execution_count": 207,
   "metadata": {
    "collapsed": true
   },
   "outputs": [],
   "source": [
    "import pandas as pd\n",
    "import numpy as np\n",
    "import os\n",
    "from os.path import join"
   ]
  },
  {
   "cell_type": "markdown",
   "source": [],
   "metadata": {
    "collapsed": false
   }
  },
  {
   "cell_type": "markdown",
   "source": [],
   "metadata": {
    "collapsed": false
   }
  },
  {
   "cell_type": "markdown",
   "source": [],
   "metadata": {
    "collapsed": false
   }
  },
  {
   "cell_type": "markdown",
   "source": [
    "## 데이터 로딩"
   ],
   "metadata": {
    "collapsed": false
   }
  },
  {
   "cell_type": "code",
   "execution_count": 208,
   "outputs": [
    {
     "name": "stdout",
     "output_type": "stream",
     "text": [
      "\n",
      "ROOT_PATH: C:\\tech\\Study\\KCC\n",
      "DATA_PATH: C:\\tech\\Study\\KCC\\dataset\\Movielens\n",
      "SAVE_PATH: C:\\tech\\Study\\KCC\\dataset\\Movielens\n",
      "FILE_PATH1: C:\\tech\\Study\\KCC\\dataset\\Movielens\\ml-1m\\ratings.dat\n",
      "\n"
     ]
    }
   ],
   "source": [
    "DATA_NAME = \"Movielens\"\n",
    "FILE_NAME1 = \"ml-1m\\\\ratings.dat\"\n",
    "COL_NAMES = ['user', 'item', 'rating', 'time']  # 초기 컬럼  user id | item id | rating | timestamp\n",
    "BASE_DATA_RATIO = 6  # N/10\n",
    "INC_RATIO = 4\n",
    "INC_STEP = 5\n",
    "\n",
    "# config\n",
    "ROOT_PATH = os.path.abspath(\"\")\n",
    "DATA_PATH = join(ROOT_PATH + \"\\\\dataset\", DATA_NAME)\n",
    "SAVE_PATH = DATA_PATH\n",
    "FILE_PATH1 = join(DATA_PATH, FILE_NAME1)\n",
    "FILT_THRESHOLD = 10  # 최소 데이터 갯수\n",
    "cols = [\"user\", \"item\", \"time\"]  # 사용할 컬럼\n",
    "\n",
    "print(f\"\"\"\n",
    "ROOT_PATH: {ROOT_PATH}\n",
    "DATA_PATH: {DATA_PATH}\n",
    "SAVE_PATH: {SAVE_PATH}\n",
    "FILE_PATH1: {FILE_PATH1}\n",
    "\"\"\")"
   ],
   "metadata": {
    "collapsed": false
   }
  },
  {
   "cell_type": "code",
   "execution_count": 209,
   "outputs": [],
   "source": [
    "def print_info(df):\n",
    "    \"\"\"\n",
    "    그래프 정보 출력\n",
    "    \"\"\"\n",
    "    print(f\"Total Edges : {len(df)}\\nTotal User : {len(df['user'].unique())}\\nTotal item : {len(df['item'].unique())} \\\n",
    "                \\nSmallest user id : {df['user'].unique().min()} \\\n",
    "                \\nbiggest user id : {df['user'].unique().max()} \\\n",
    "                \\nSmallest item id : {df['item'].unique().min()} \\\n",
    "                \\nbiggest item id : {df['item'].unique().max()} \\\n",
    "                \\nMin Interaction Per user : {df.user.value_counts().min()} \\\n",
    "                \\nMax Interaction Per user : {df.user.value_counts().max()} \\\n",
    "                \\nAvg Interaction Per user : {df.user.value_counts().mean()}\\\n",
    "                \\nMin Interaction Per item : {df.item.value_counts().min()} \\\n",
    "                \\nMax Interaction Per item : {df.item.value_counts().max()} \\\n",
    "                \\nAvg Interaction Per item : {df.item.value_counts().mean()}\")"
   ],
   "metadata": {
    "collapsed": false
   }
  },
  {
   "cell_type": "code",
   "execution_count": 210,
   "outputs": [
    {
     "name": "stderr",
     "output_type": "stream",
     "text": [
      "C:\\Users\\정지운\\AppData\\Local\\Temp\\ipykernel_15608\\1549189773.py:2: ParserWarning: Falling back to the 'python' engine because the 'c' engine does not support regex separators (separators > 1 char and different from '\\s+' are interpreted as regex); you can avoid this warning by specifying engine='python'.\n",
      "  ml_1m_df = pd.read_table(FILE_PATH1, names=COL_NAMES, sep=\"::\")\n"
     ]
    }
   ],
   "source": [
    "# Load File\n",
    "ml_1m_df = pd.read_table(FILE_PATH1, names=COL_NAMES, sep=\"::\")"
   ],
   "metadata": {
    "collapsed": false
   }
  },
  {
   "cell_type": "code",
   "execution_count": 211,
   "outputs": [
    {
     "name": "stdout",
     "output_type": "stream",
     "text": [
      "Total Edges : 1000209\n",
      "Total User : 6040\n",
      "Total item : 3706                 \n",
      "Smallest user id : 1                 \n",
      "biggest user id : 6040                 \n",
      "Smallest item id : 1                 \n",
      "biggest item id : 3952                 \n",
      "Min Interaction Per user : 20                 \n",
      "Max Interaction Per user : 2314                 \n",
      "Avg Interaction Per user : 165.5975165562914                \n",
      "Min Interaction Per item : 1                 \n",
      "Max Interaction Per item : 3428                 \n",
      "Avg Interaction Per item : 269.88909875876953\n"
     ]
    }
   ],
   "source": [
    "print_info(ml_1m_df)"
   ],
   "metadata": {
    "collapsed": false
   }
  },
  {
   "cell_type": "markdown",
   "source": [],
   "metadata": {
    "collapsed": false
   }
  },
  {
   "cell_type": "markdown",
   "source": [],
   "metadata": {
    "collapsed": false
   }
  },
  {
   "cell_type": "markdown",
   "source": [
    "## 데이터 전처리\n",
    "\n",
    "* 중복 제거: 동일 유저, 동일 아이템에 대한 평점은 가장 최근 것만\n",
    "* 긍정 데이터: rating 5점 데이터\n",
    "* 유효 데이터: interaction 10개 이상"
   ],
   "metadata": {
    "collapsed": false
   }
  },
  {
   "cell_type": "markdown",
   "source": [
    "1. 중복 제거 (중복이 없다.)"
   ],
   "metadata": {
    "collapsed": false
   }
  },
  {
   "cell_type": "code",
   "execution_count": 212,
   "outputs": [
    {
     "data": {
      "text/plain": "Empty DataFrame\nColumns: [user, item, rating, time]\nIndex: []",
      "text/html": "<div>\n<style scoped>\n    .dataframe tbody tr th:only-of-type {\n        vertical-align: middle;\n    }\n\n    .dataframe tbody tr th {\n        vertical-align: top;\n    }\n\n    .dataframe thead th {\n        text-align: right;\n    }\n</style>\n<table border=\"1\" class=\"dataframe\">\n  <thead>\n    <tr style=\"text-align: right;\">\n      <th></th>\n      <th>user</th>\n      <th>item</th>\n      <th>rating</th>\n      <th>time</th>\n    </tr>\n  </thead>\n  <tbody>\n  </tbody>\n</table>\n</div>"
     },
     "execution_count": 212,
     "metadata": {},
     "output_type": "execute_result"
    }
   ],
   "source": [
    "ml_1m_df[ml_1m_df.duplicated(subset=['user', 'item'])]"
   ],
   "metadata": {
    "collapsed": false
   }
  },
  {
   "cell_type": "markdown",
   "source": [
    "2. 평점 5점 데이터는 1"
   ],
   "metadata": {
    "collapsed": false
   }
  },
  {
   "cell_type": "code",
   "execution_count": 213,
   "outputs": [],
   "source": [
    "def GetPositiveDf(df):\n",
    "    df['rating'] = df['rating'].apply(lambda x: 1 if x >= 5 else 0)\n",
    "    return df\n",
    "\n",
    "\n",
    "ml_1m_positive_df = GetPositiveDf(ml_1m_df)"
   ],
   "metadata": {
    "collapsed": false
   }
  },
  {
   "cell_type": "code",
   "execution_count": 214,
   "outputs": [
    {
     "data": {
      "text/plain": "         user  item  rating       time\n0           1  1193       1  978300760\n1           1   661       0  978302109\n2           1   914       0  978301968\n3           1  3408       0  978300275\n4           1  2355       1  978824291\n...       ...   ...     ...        ...\n1000204  6040  1091       0  956716541\n1000205  6040  1094       1  956704887\n1000206  6040   562       1  956704746\n1000207  6040  1096       0  956715648\n1000208  6040  1097       0  956715569\n\n[1000209 rows x 4 columns]",
      "text/html": "<div>\n<style scoped>\n    .dataframe tbody tr th:only-of-type {\n        vertical-align: middle;\n    }\n\n    .dataframe tbody tr th {\n        vertical-align: top;\n    }\n\n    .dataframe thead th {\n        text-align: right;\n    }\n</style>\n<table border=\"1\" class=\"dataframe\">\n  <thead>\n    <tr style=\"text-align: right;\">\n      <th></th>\n      <th>user</th>\n      <th>item</th>\n      <th>rating</th>\n      <th>time</th>\n    </tr>\n  </thead>\n  <tbody>\n    <tr>\n      <th>0</th>\n      <td>1</td>\n      <td>1193</td>\n      <td>1</td>\n      <td>978300760</td>\n    </tr>\n    <tr>\n      <th>1</th>\n      <td>1</td>\n      <td>661</td>\n      <td>0</td>\n      <td>978302109</td>\n    </tr>\n    <tr>\n      <th>2</th>\n      <td>1</td>\n      <td>914</td>\n      <td>0</td>\n      <td>978301968</td>\n    </tr>\n    <tr>\n      <th>3</th>\n      <td>1</td>\n      <td>3408</td>\n      <td>0</td>\n      <td>978300275</td>\n    </tr>\n    <tr>\n      <th>4</th>\n      <td>1</td>\n      <td>2355</td>\n      <td>1</td>\n      <td>978824291</td>\n    </tr>\n    <tr>\n      <th>...</th>\n      <td>...</td>\n      <td>...</td>\n      <td>...</td>\n      <td>...</td>\n    </tr>\n    <tr>\n      <th>1000204</th>\n      <td>6040</td>\n      <td>1091</td>\n      <td>0</td>\n      <td>956716541</td>\n    </tr>\n    <tr>\n      <th>1000205</th>\n      <td>6040</td>\n      <td>1094</td>\n      <td>1</td>\n      <td>956704887</td>\n    </tr>\n    <tr>\n      <th>1000206</th>\n      <td>6040</td>\n      <td>562</td>\n      <td>1</td>\n      <td>956704746</td>\n    </tr>\n    <tr>\n      <th>1000207</th>\n      <td>6040</td>\n      <td>1096</td>\n      <td>0</td>\n      <td>956715648</td>\n    </tr>\n    <tr>\n      <th>1000208</th>\n      <td>6040</td>\n      <td>1097</td>\n      <td>0</td>\n      <td>956715569</td>\n    </tr>\n  </tbody>\n</table>\n<p>1000209 rows × 4 columns</p>\n</div>"
     },
     "execution_count": 214,
     "metadata": {},
     "output_type": "execute_result"
    }
   ],
   "source": [
    "ml_1m_positive_df"
   ],
   "metadata": {
    "collapsed": false
   }
  },
  {
   "cell_type": "code",
   "execution_count": 215,
   "outputs": [
    {
     "name": "stdout",
     "output_type": "stream",
     "text": [
      "Total Edges : 1000209\n",
      "Total User : 6040\n",
      "Total item : 3706                 \n",
      "Smallest user id : 1                 \n",
      "biggest user id : 6040                 \n",
      "Smallest item id : 1                 \n",
      "biggest item id : 3952                 \n",
      "Min Interaction Per user : 20                 \n",
      "Max Interaction Per user : 2314                 \n",
      "Avg Interaction Per user : 165.5975165562914                \n",
      "Min Interaction Per item : 1                 \n",
      "Max Interaction Per item : 3428                 \n",
      "Avg Interaction Per item : 269.88909875876953\n"
     ]
    }
   ],
   "source": [
    "print_info(ml_1m_positive_df)"
   ],
   "metadata": {
    "collapsed": false
   }
  },
  {
   "cell_type": "markdown",
   "source": [
    "3. 10개 미만 interaction 삭제"
   ],
   "metadata": {
    "collapsed": false
   }
  },
  {
   "cell_type": "code",
   "execution_count": 216,
   "outputs": [],
   "source": [
    "def GetVailidDf(fdf):\n",
    "    while fdf.user.value_counts().min() < FILT_THRESHOLD or fdf.item.value_counts().min() < FILT_THRESHOLD:\n",
    "        df_item = fdf.groupby('item').count()\n",
    "        df_item = df_item[df_item.user < FILT_THRESHOLD]\n",
    "        li = df_item.index.to_list()\n",
    "        fdf = fdf.drop(fdf.loc[fdf.item.isin(li)].index)\n",
    "        # print_info(fdf)\n",
    "        df_usr = fdf.groupby('user').count()\n",
    "        df_usr = df_usr[df_usr.item < FILT_THRESHOLD]\n",
    "        li = df_usr.index.to_list()\n",
    "        fdf = fdf.drop(fdf.loc[fdf.user.isin(li)].index)\n",
    "    fdf = fdf.reset_index().drop(columns=['index'])\n",
    "    return fdf\n",
    "\n",
    "\n",
    "ml_1m_vailid_df = GetVailidDf(ml_1m_df)"
   ],
   "metadata": {
    "collapsed": false
   }
  },
  {
   "cell_type": "code",
   "execution_count": 217,
   "outputs": [
    {
     "name": "stdout",
     "output_type": "stream",
     "text": [
      "Total Edges : 998539\n",
      "Total User : 6040\n",
      "Total item : 3260                 \n",
      "Smallest user id : 1                 \n",
      "biggest user id : 6040                 \n",
      "Smallest item id : 1                 \n",
      "biggest item id : 3952                 \n",
      "Min Interaction Per user : 17                 \n",
      "Max Interaction Per user : 2233                 \n",
      "Avg Interaction Per user : 165.32102649006623                \n",
      "Min Interaction Per item : 10                 \n",
      "Max Interaction Per item : 3428                 \n",
      "Avg Interaction Per item : 306.30030674846626\n"
     ]
    }
   ],
   "source": [
    "print_info(ml_1m_vailid_df)"
   ],
   "metadata": {
    "collapsed": false
   }
  },
  {
   "cell_type": "markdown",
   "source": [
    "4. 랜덤 섞기"
   ],
   "metadata": {
    "collapsed": false
   }
  },
  {
   "cell_type": "code",
   "execution_count": 218,
   "outputs": [],
   "source": [
    "def GetShuffledDf(df):\n",
    "    return df.sample(frac=1, random_state=42)\n",
    "\n",
    "\n",
    "pre_ml_1m_df = GetShuffledDf(ml_1m_vailid_df)"
   ],
   "metadata": {
    "collapsed": false
   }
  },
  {
   "cell_type": "code",
   "execution_count": 219,
   "outputs": [
    {
     "data": {
      "text/plain": "        user  item  rating        time\n485191  2993  2606       0   970740610\n696630  4169  1067       0   965693112\n983347  5952   265       0   957144461\n435115  2664  2378       0   973455388\n620077  3762  2661       0   966093685\n...      ...   ...     ...         ...\n259178  1587  1985       0  1010336240\n365838  2136   736       0   974643667\n131932   854    45       0   975352099\n671155  4041  1440       0   965714059\n121958   788  1297       0   975431209\n\n[998539 rows x 4 columns]",
      "text/html": "<div>\n<style scoped>\n    .dataframe tbody tr th:only-of-type {\n        vertical-align: middle;\n    }\n\n    .dataframe tbody tr th {\n        vertical-align: top;\n    }\n\n    .dataframe thead th {\n        text-align: right;\n    }\n</style>\n<table border=\"1\" class=\"dataframe\">\n  <thead>\n    <tr style=\"text-align: right;\">\n      <th></th>\n      <th>user</th>\n      <th>item</th>\n      <th>rating</th>\n      <th>time</th>\n    </tr>\n  </thead>\n  <tbody>\n    <tr>\n      <th>485191</th>\n      <td>2993</td>\n      <td>2606</td>\n      <td>0</td>\n      <td>970740610</td>\n    </tr>\n    <tr>\n      <th>696630</th>\n      <td>4169</td>\n      <td>1067</td>\n      <td>0</td>\n      <td>965693112</td>\n    </tr>\n    <tr>\n      <th>983347</th>\n      <td>5952</td>\n      <td>265</td>\n      <td>0</td>\n      <td>957144461</td>\n    </tr>\n    <tr>\n      <th>435115</th>\n      <td>2664</td>\n      <td>2378</td>\n      <td>0</td>\n      <td>973455388</td>\n    </tr>\n    <tr>\n      <th>620077</th>\n      <td>3762</td>\n      <td>2661</td>\n      <td>0</td>\n      <td>966093685</td>\n    </tr>\n    <tr>\n      <th>...</th>\n      <td>...</td>\n      <td>...</td>\n      <td>...</td>\n      <td>...</td>\n    </tr>\n    <tr>\n      <th>259178</th>\n      <td>1587</td>\n      <td>1985</td>\n      <td>0</td>\n      <td>1010336240</td>\n    </tr>\n    <tr>\n      <th>365838</th>\n      <td>2136</td>\n      <td>736</td>\n      <td>0</td>\n      <td>974643667</td>\n    </tr>\n    <tr>\n      <th>131932</th>\n      <td>854</td>\n      <td>45</td>\n      <td>0</td>\n      <td>975352099</td>\n    </tr>\n    <tr>\n      <th>671155</th>\n      <td>4041</td>\n      <td>1440</td>\n      <td>0</td>\n      <td>965714059</td>\n    </tr>\n    <tr>\n      <th>121958</th>\n      <td>788</td>\n      <td>1297</td>\n      <td>0</td>\n      <td>975431209</td>\n    </tr>\n  </tbody>\n</table>\n<p>998539 rows × 4 columns</p>\n</div>"
     },
     "execution_count": 219,
     "metadata": {},
     "output_type": "execute_result"
    }
   ],
   "source": [
    "pre_ml_1m_df"
   ],
   "metadata": {
    "collapsed": false
   }
  },
  {
   "cell_type": "code",
   "execution_count": 220,
   "outputs": [
    {
     "data": {
      "text/plain": "'C:\\\\tech\\\\Study\\\\KCC\\\\dataset\\\\Movielens'"
     },
     "execution_count": 220,
     "metadata": {},
     "output_type": "execute_result"
    }
   ],
   "source": [
    "SAVE_PATH"
   ],
   "metadata": {
    "collapsed": false
   }
  },
  {
   "cell_type": "code",
   "execution_count": 221,
   "outputs": [],
   "source": [
    "pre_ml_1m_df.to_csv(SAVE_PATH + \"\\\\preprocessed_ml_1m.csv\", index=False)"
   ],
   "metadata": {
    "collapsed": false
   }
  },
  {
   "cell_type": "markdown",
   "source": [],
   "metadata": {
    "collapsed": false
   }
  },
  {
   "cell_type": "markdown",
   "source": [],
   "metadata": {
    "collapsed": false
   }
  },
  {
   "cell_type": "markdown",
   "source": [
    "## 시나리오1, 유저와 아이템 모두 증가. (increase)"
   ],
   "metadata": {
    "collapsed": false
   }
  },
  {
   "cell_type": "code",
   "execution_count": 222,
   "outputs": [],
   "source": [
    "pre_ml_1m_df = pd.read_csv(os.path.join(SAVE_PATH, \"preprocessed_ml_1m.csv\"))"
   ],
   "metadata": {
    "collapsed": false
   }
  },
  {
   "cell_type": "code",
   "execution_count": 223,
   "outputs": [],
   "source": [
    "def GetTimeSequenceDf(df):\n",
    "    df['time'] = pd.to_datetime(df['time'])\n",
    "    return df.sort_values(by=['time'])"
   ],
   "metadata": {
    "collapsed": false
   }
  },
  {
   "cell_type": "code",
   "execution_count": 224,
   "outputs": [],
   "source": [
    "pre_ml_1m_df = GetTimeSequenceDf(pre_ml_1m_df)"
   ],
   "metadata": {
    "collapsed": false
   }
  },
  {
   "cell_type": "code",
   "execution_count": 225,
   "outputs": [
    {
     "data": {
      "text/plain": "'C:\\\\tech\\\\Study\\\\KCC\\\\dataset\\\\Movielens\\\\increase\\\\'"
     },
     "execution_count": 225,
     "metadata": {},
     "output_type": "execute_result"
    }
   ],
   "source": [
    "# 경로 설정\n",
    "INCREASE_PATH = os.path.join(SAVE_PATH, \"increase\\\\\")\n",
    "INCREASE_PATH"
   ],
   "metadata": {
    "collapsed": false
   }
  },
  {
   "cell_type": "code",
   "execution_count": 226,
   "outputs": [
    {
     "name": "stdout",
     "output_type": "stream",
     "text": [
      "base block size: 599123\n"
     ]
    }
   ],
   "source": [
    "# base block 설정\n",
    "def SetBaseBlock(df, path, category):\n",
    "    pivot = len(df) * BASE_DATA_RATIO // 10\n",
    "    print(f\"base block size: {pivot}\")\n",
    "    df[:pivot].to_csv(path + category + \"_inc0.csv\", index=False)\n",
    "\n",
    "\n",
    "SetBaseBlock(pre_ml_1m_df, INCREASE_PATH, \"ml_1m\")"
   ],
   "metadata": {
    "collapsed": false
   }
  },
  {
   "cell_type": "code",
   "execution_count": 227,
   "outputs": [
    {
     "name": "stdout",
     "output_type": "stream",
     "text": [
      "Inc1 Block Size : 79883\n",
      "Inc2 Block Size : 79883\n",
      "Inc3 Block Size : 79883\n",
      "Inc4 Block Size : 79883\n",
      "Inc5 Block Size : 79884\n"
     ]
    }
   ],
   "source": [
    "def SetIncreaseBlocks(df, category):\n",
    "    pivot = len(df) * BASE_DATA_RATIO // 10\n",
    "    remain = df[pivot:]\n",
    "    len_per_block = remain.shape[0] // INC_STEP\n",
    "    start = 0\n",
    "    inc_block = []\n",
    "    for i in range(INC_STEP):\n",
    "        if i != INC_STEP - 1:\n",
    "            inc_block.append(remain[start:start + len_per_block])\n",
    "        else:\n",
    "            inc_block.append(remain[start:])\n",
    "        start += len_per_block\n",
    "        print(f\"Inc{i + 1} Block Size : {len(inc_block[i])}\")\n",
    "        inc_block[i].to_csv(INCREASE_PATH + category + f\"_inc{i + 1}.csv\", index=False)\n",
    "\n",
    "\n",
    "SetIncreaseBlocks(pre_ml_1m_df, \"ml_1m\")"
   ],
   "metadata": {
    "collapsed": false
   }
  },
  {
   "cell_type": "markdown",
   "source": [],
   "metadata": {
    "collapsed": false
   }
  },
  {
   "cell_type": "markdown",
   "source": [],
   "metadata": {
    "collapsed": false
   }
  },
  {
   "cell_type": "markdown",
   "source": [
    "## 시나리오2, 유저와 아이템 모두 고정. (fixed)"
   ],
   "metadata": {
    "collapsed": false
   }
  },
  {
   "cell_type": "code",
   "execution_count": 228,
   "outputs": [],
   "source": [
    "pre_ml_1m_df = pd.read_csv(os.path.join(SAVE_PATH, \"preprocessed_ml_1m.csv\"))"
   ],
   "metadata": {
    "collapsed": false
   }
  },
  {
   "cell_type": "code",
   "execution_count": 229,
   "outputs": [],
   "source": [
    "def GetTimeSequenceDf(df):\n",
    "    df['time'] = pd.to_datetime(df['time'])\n",
    "    return df.sort_values(by=['time'])"
   ],
   "metadata": {
    "collapsed": false
   }
  },
  {
   "cell_type": "code",
   "execution_count": 230,
   "outputs": [],
   "source": [
    "pre_ml_1m_df = GetTimeSequenceDf(pre_ml_1m_df)"
   ],
   "metadata": {
    "collapsed": false
   }
  },
  {
   "cell_type": "code",
   "execution_count": 231,
   "outputs": [
    {
     "data": {
      "text/plain": "'C:\\\\tech\\\\Study\\\\KCC\\\\dataset\\\\Movielens\\\\fixed\\\\'"
     },
     "execution_count": 231,
     "metadata": {},
     "output_type": "execute_result"
    }
   ],
   "source": [
    "FIXED_PATH = os.path.join(SAVE_PATH, \"fixed\\\\\")\n",
    "FIXED_PATH"
   ],
   "metadata": {
    "collapsed": false
   }
  },
  {
   "cell_type": "code",
   "execution_count": 232,
   "outputs": [
    {
     "name": "stdout",
     "output_type": "stream",
     "text": [
      "base block size: 599123\n"
     ]
    }
   ],
   "source": [
    "# base block 설정\n",
    "SetBaseBlock(pre_ml_1m_df, FIXED_PATH, \"ml_1m\")"
   ],
   "metadata": {
    "collapsed": false
   }
  },
  {
   "cell_type": "code",
   "execution_count": 233,
   "outputs": [
    {
     "name": "stdout",
     "output_type": "stream",
     "text": [
      "Inc1 Block Size : 13649\n",
      "Inc2 Block Size : 13649\n",
      "Inc3 Block Size : 13649\n",
      "Inc4 Block Size : 13649\n",
      "Inc5 Block Size : 13650\n"
     ]
    }
   ],
   "source": [
    "def SetFixedBlocks(df, category):\n",
    "    pivot = len(df) * BASE_DATA_RATIO // 10\n",
    "    # base block에 있는 unique한 user, item index 추출\n",
    "    unique_user = df[:pivot]['user'].unique()\n",
    "    unique_item = df[:pivot]['item'].unique()\n",
    "    # remain block에서 unique user/item에 해당하는 데이터만 추출\n",
    "    remain = df[pivot:]\n",
    "    fixed_df = remain[remain['user'].isin(unique_user) & remain['item'].isin(unique_item)]\n",
    "    len_per_block = fixed_df.shape[0] // INC_STEP\n",
    "    start = 0\n",
    "    inc_block = []\n",
    "    for i in range(INC_STEP):\n",
    "        if i != INC_STEP - 1:\n",
    "            inc_block.append(fixed_df[start:start + len_per_block])\n",
    "        else:\n",
    "            inc_block.append(fixed_df[start:])\n",
    "        start += len_per_block\n",
    "        print(f\"Inc{i + 1} Block Size : {len(inc_block[i])}\")\n",
    "        inc_block[i].to_csv(FIXED_PATH + category + f\"_inc{i + 1}.csv\", index=False)\n",
    "\n",
    "\n",
    "SetFixedBlocks(pre_ml_1m_df, \"ml_1m\")"
   ],
   "metadata": {
    "collapsed": false
   }
  },
  {
   "cell_type": "markdown",
   "source": [],
   "metadata": {
    "collapsed": false
   }
  },
  {
   "cell_type": "markdown",
   "source": [],
   "metadata": {
    "collapsed": false
   }
  },
  {
   "cell_type": "markdown",
   "source": [
    "## 시나리오3, 유저만 증가 (user)"
   ],
   "metadata": {
    "collapsed": false
   }
  },
  {
   "cell_type": "code",
   "execution_count": 234,
   "outputs": [],
   "source": [
    "pre_ml_1m_df = pd.read_csv(os.path.join(SAVE_PATH, \"preprocessed_ml_1m.csv\"))"
   ],
   "metadata": {
    "collapsed": false
   }
  },
  {
   "cell_type": "code",
   "execution_count": 235,
   "outputs": [
    {
     "data": {
      "text/plain": "'C:\\\\tech\\\\Study\\\\KCC\\\\dataset\\\\Movielens\\\\user\\\\'"
     },
     "execution_count": 235,
     "metadata": {},
     "output_type": "execute_result"
    }
   ],
   "source": [
    "USER_PATH = os.path.join(SAVE_PATH, \"user\\\\\")\n",
    "USER_PATH"
   ],
   "metadata": {
    "collapsed": false
   }
  },
  {
   "cell_type": "code",
   "execution_count": 236,
   "outputs": [],
   "source": [
    "ucdf = pre_ml_1m_df.groupby(\"user\").count()\n",
    "ucdf = ucdf.sample(frac=1, random_state=42).reset_index()"
   ],
   "metadata": {
    "collapsed": false
   }
  },
  {
   "cell_type": "code",
   "execution_count": 237,
   "outputs": [],
   "source": [
    "inc_user = [[] for i in range(INC_STEP+1)]\n",
    "base_size = len(pre_ml_1m_df) * BASE_DATA_RATIO // 10\n",
    "inc_size = len(pre_ml_1m_df)*INC_RATIO// 10 // INC_STEP"
   ],
   "metadata": {
    "collapsed": false
   }
  },
  {
   "cell_type": "code",
   "execution_count": 238,
   "outputs": [
    {
     "name": "stdout",
     "output_type": "stream",
     "text": [
      "Base Block Size : 599313\n",
      "Base Done\n",
      "(599313, 4)\n",
      "Inc1 Done\n",
      "Inc Block1 Size : 79962\n",
      "(79962, 4)\n",
      "Inc2 Done\n",
      "Inc Block2 Size : 80090\n",
      "(80090, 4)\n",
      "Inc3 Done\n",
      "Inc Block3 Size : 80175\n",
      "(80175, 4)\n",
      "Inc4 Done\n",
      "Inc Block4 Size : 80206\n",
      "(80206, 4)\n",
      "Inc5 Done\n",
      "Inc Block5 Size : 78793\n",
      "(78793, 4)\n"
     ]
    }
   ],
   "source": [
    "i = 0\n",
    "cur = 0\n",
    "\n",
    "while i < INC_STEP+1:\n",
    "    count = 0\n",
    "\n",
    "    if i==0:\n",
    "        # Base block\n",
    "        while count < base_size:\n",
    "            row = ucdf.iloc[cur]\n",
    "            inc_user[i].append(row['user'])\n",
    "            count += row['item']\n",
    "            cur += 1\n",
    "\n",
    "        print(f\"Base Block Size : {count}\")\n",
    "        print('Base Done')\n",
    "\n",
    "    elif i == INC_STEP:\n",
    "        inc_user[i] = ucdf.iloc[cur:]['user'].values.tolist()\n",
    "        count = ucdf[cur:]['item'].values.sum()\n",
    "\n",
    "        print(f'Inc{i} Done')\n",
    "        print(f\"Inc Block{i} Size : {count}\")\n",
    "\n",
    "    else:\n",
    "        # Incremental block\n",
    "        while count < inc_size:\n",
    "            row = ucdf.iloc[cur]\n",
    "            inc_user[i].append(row['user'])\n",
    "            count += row['item']\n",
    "            cur += 1\n",
    "\n",
    "        print(f'Inc{i} Done')\n",
    "        print(f\"Inc Block{i} Size : {count}\")\n",
    "\n",
    "\n",
    "\n",
    "    result = pre_ml_1m_df[pre_ml_1m_df['user'].isin(inc_user[i])]\n",
    "    print(result.shape)\n",
    "    result.to_csv(USER_PATH+\"ml_1m\" + f\"_inc{i}.csv\", index=False)\n",
    "\n",
    "    i += 1"
   ],
   "metadata": {
    "collapsed": false
   }
  },
  {
   "cell_type": "code",
   "execution_count": 238,
   "outputs": [],
   "source": [],
   "metadata": {
    "collapsed": false
   }
  },
  {
   "cell_type": "markdown",
   "source": [],
   "metadata": {
    "collapsed": false
   }
  },
  {
   "cell_type": "markdown",
   "source": [],
   "metadata": {
    "collapsed": false
   }
  },
  {
   "cell_type": "markdown",
   "source": [
    "## 시나리오4, 아이템만 증가. (item)"
   ],
   "metadata": {
    "collapsed": false
   }
  },
  {
   "cell_type": "code",
   "execution_count": 239,
   "outputs": [],
   "source": [
    "pre_ml_1m_df = pd.read_csv(os.path.join(SAVE_PATH, \"preprocessed_ml_1m.csv\"))"
   ],
   "metadata": {
    "collapsed": false
   }
  },
  {
   "cell_type": "code",
   "execution_count": 240,
   "outputs": [
    {
     "data": {
      "text/plain": "'C:\\\\tech\\\\Study\\\\KCC\\\\dataset\\\\Movielens\\\\item\\\\'"
     },
     "execution_count": 240,
     "metadata": {},
     "output_type": "execute_result"
    }
   ],
   "source": [
    "ITEM_PATH = os.path.join(SAVE_PATH, \"item\\\\\")\n",
    "ITEM_PATH"
   ],
   "metadata": {
    "collapsed": false
   }
  },
  {
   "cell_type": "code",
   "execution_count": 241,
   "outputs": [
    {
     "data": {
      "text/plain": "      item  user  rating  time\n0     1979   112     112   112\n1      158   259     259   259\n2     1046    90      90    90\n3     2748   137     137   137\n4     3696    65      65    65\n...    ...   ...     ...   ...\n3255  1351    35      35    35\n3256  1392   219     219   219\n3257  1614   428     428   428\n3258  1066   175     175   175\n3259  3853    13      13    13\n\n[3260 rows x 4 columns]",
      "text/html": "<div>\n<style scoped>\n    .dataframe tbody tr th:only-of-type {\n        vertical-align: middle;\n    }\n\n    .dataframe tbody tr th {\n        vertical-align: top;\n    }\n\n    .dataframe thead th {\n        text-align: right;\n    }\n</style>\n<table border=\"1\" class=\"dataframe\">\n  <thead>\n    <tr style=\"text-align: right;\">\n      <th></th>\n      <th>item</th>\n      <th>user</th>\n      <th>rating</th>\n      <th>time</th>\n    </tr>\n  </thead>\n  <tbody>\n    <tr>\n      <th>0</th>\n      <td>1979</td>\n      <td>112</td>\n      <td>112</td>\n      <td>112</td>\n    </tr>\n    <tr>\n      <th>1</th>\n      <td>158</td>\n      <td>259</td>\n      <td>259</td>\n      <td>259</td>\n    </tr>\n    <tr>\n      <th>2</th>\n      <td>1046</td>\n      <td>90</td>\n      <td>90</td>\n      <td>90</td>\n    </tr>\n    <tr>\n      <th>3</th>\n      <td>2748</td>\n      <td>137</td>\n      <td>137</td>\n      <td>137</td>\n    </tr>\n    <tr>\n      <th>4</th>\n      <td>3696</td>\n      <td>65</td>\n      <td>65</td>\n      <td>65</td>\n    </tr>\n    <tr>\n      <th>...</th>\n      <td>...</td>\n      <td>...</td>\n      <td>...</td>\n      <td>...</td>\n    </tr>\n    <tr>\n      <th>3255</th>\n      <td>1351</td>\n      <td>35</td>\n      <td>35</td>\n      <td>35</td>\n    </tr>\n    <tr>\n      <th>3256</th>\n      <td>1392</td>\n      <td>219</td>\n      <td>219</td>\n      <td>219</td>\n    </tr>\n    <tr>\n      <th>3257</th>\n      <td>1614</td>\n      <td>428</td>\n      <td>428</td>\n      <td>428</td>\n    </tr>\n    <tr>\n      <th>3258</th>\n      <td>1066</td>\n      <td>175</td>\n      <td>175</td>\n      <td>175</td>\n    </tr>\n    <tr>\n      <th>3259</th>\n      <td>3853</td>\n      <td>13</td>\n      <td>13</td>\n      <td>13</td>\n    </tr>\n  </tbody>\n</table>\n<p>3260 rows × 4 columns</p>\n</div>"
     },
     "execution_count": 241,
     "metadata": {},
     "output_type": "execute_result"
    }
   ],
   "source": [
    "icdf = pre_ml_1m_df.groupby(\"item\").count()\n",
    "icdf = icdf.sample(frac=1, random_state=42).reset_index()\n",
    "icdf"
   ],
   "metadata": {
    "collapsed": false
   }
  },
  {
   "cell_type": "code",
   "execution_count": 242,
   "outputs": [],
   "source": [
    "inc_item = [[] for i in range(INC_STEP+1)]\n",
    "base_size = len(pre_ml_1m_df) * BASE_DATA_RATIO // 10\n",
    "inc_size = len(pre_ml_1m_df)*INC_RATIO// 10 // INC_STEP"
   ],
   "metadata": {
    "collapsed": false
   }
  },
  {
   "cell_type": "code",
   "execution_count": 243,
   "outputs": [
    {
     "name": "stdout",
     "output_type": "stream",
     "text": [
      "Base Block Size : 599135\n",
      "Base Done\n",
      "(599135, 4)\n",
      "Inc1 Done\n",
      "Inc Block1 Size : 80283\n",
      "(80283, 4)\n",
      "Inc2 Done\n",
      "Inc Block2 Size : 80107\n",
      "(80107, 4)\n",
      "Inc3 Done\n",
      "Inc Block3 Size : 79884\n",
      "(79884, 4)\n",
      "Inc4 Done\n",
      "Inc Block4 Size : 80042\n",
      "(80042, 4)\n",
      "Inc5 Done\n",
      "Inc Block5 Size : 79088\n",
      "(79088, 4)\n"
     ]
    }
   ],
   "source": [
    "i = 0\n",
    "cur = 0\n",
    "\n",
    "while i < INC_STEP+1:\n",
    "    count = 0\n",
    "\n",
    "    if i==0:\n",
    "        # Base block\n",
    "        while count < base_size:\n",
    "            row = icdf.iloc[cur]\n",
    "            inc_item[i].append(row['item'])\n",
    "            count += row['user']\n",
    "            cur += 1\n",
    "\n",
    "        print(f\"Base Block Size : {count}\")\n",
    "        print('Base Done')\n",
    "\n",
    "    elif i == INC_STEP:\n",
    "        inc_item[i] = icdf.iloc[cur:]['item'].values.tolist()\n",
    "        count = icdf[cur:]['user'].values.sum()\n",
    "\n",
    "        print(f'Inc{i} Done')\n",
    "        print(f\"Inc Block{i} Size : {count}\")\n",
    "\n",
    "    else:\n",
    "        # Incremental block\n",
    "        while count < inc_size:\n",
    "            row = icdf.iloc[cur]\n",
    "            inc_item[i].append(row['item'])\n",
    "            count += row['user']\n",
    "            cur += 1\n",
    "\n",
    "        print(f'Inc{i} Done')\n",
    "        print(f\"Inc Block{i} Size : {count}\")\n",
    "\n",
    "\n",
    "\n",
    "    result = pre_ml_1m_df[pre_ml_1m_df['item'].isin(inc_item[i])]\n",
    "    print(result.shape)\n",
    "    result.to_csv(ITEM_PATH+\"ml_1m\" + f\"_inc{i}.csv\", index=False)\n",
    "\n",
    "    i += 1"
   ],
   "metadata": {
    "collapsed": false
   }
  },
  {
   "cell_type": "code",
   "execution_count": null,
   "outputs": [],
   "source": [],
   "metadata": {
    "collapsed": false
   }
  },
  {
   "cell_type": "code",
   "execution_count": null,
   "outputs": [],
   "source": [],
   "metadata": {
    "collapsed": false
   }
  },
  {
   "cell_type": "markdown",
   "source": [
    "## user / item 시나리오\n",
    "\n",
    "모든 블록 8:2 random split"
   ],
   "metadata": {
    "collapsed": false
   }
  },
  {
   "cell_type": "code",
   "execution_count": 244,
   "outputs": [
    {
     "data": {
      "text/plain": "'C:\\\\tech\\\\Study\\\\KCC\\\\dataset\\\\Movielens\\\\user\\\\'"
     },
     "execution_count": 244,
     "metadata": {},
     "output_type": "execute_result"
    }
   ],
   "source": [
    "USER_PATH"
   ],
   "metadata": {
    "collapsed": false
   }
  },
  {
   "cell_type": "code",
   "execution_count": 245,
   "outputs": [
    {
     "data": {
      "text/plain": "'C:\\\\tech\\\\Study\\\\KCC\\\\dataset\\\\Movielens\\\\item\\\\'"
     },
     "execution_count": 245,
     "metadata": {},
     "output_type": "execute_result"
    }
   ],
   "source": [
    "ITEM_PATH"
   ],
   "metadata": {
    "collapsed": false
   }
  },
  {
   "cell_type": "code",
   "execution_count": 246,
   "outputs": [],
   "source": [
    "from sklearn.model_selection import train_test_split\n",
    "\n",
    "user_dfs = [pd.read_csv(USER_PATH+\"ml_1m\" + f\"_inc{i}.csv\") for i in range(6)]\n",
    "item_dfs = [pd.read_csv(ITEM_PATH+\"ml_1m\" + f\"_inc{i}.csv\") for i in range(6)]"
   ],
   "metadata": {
    "collapsed": false
   }
  },
  {
   "cell_type": "code",
   "execution_count": 252,
   "outputs": [],
   "source": [
    "for i,user_df in enumerate(user_dfs):\n",
    "    train, test = train_test_split(user_df, test_size=0.2, random_state=42)\n",
    "    train.to_csv(USER_PATH+\"train_ml_1m\" + f\"_inc{i}.csv\", index=False)\n",
    "    test.to_csv(USER_PATH+\"test_ml_1m\" + f\"_inc{i}.csv\", index=False)"
   ],
   "metadata": {
    "collapsed": false
   }
  },
  {
   "cell_type": "code",
   "execution_count": 253,
   "outputs": [],
   "source": [
    "for i,item_df in enumerate(item_dfs):\n",
    "    train, test = train_test_split(item_df, test_size=0.2, random_state=42)\n",
    "    train.to_csv(ITEM_PATH+\"train_ml_1m\" + f\"_inc{i}.csv\", index=False)\n",
    "    test.to_csv(ITEM_PATH+\"test_ml_1m\" + f\"_inc{i}.csv\", index=False)"
   ],
   "metadata": {
    "collapsed": false
   }
  },
  {
   "cell_type": "code",
   "execution_count": null,
   "outputs": [],
   "source": [],
   "metadata": {
    "collapsed": false
   }
  }
 ],
 "metadata": {
  "kernelspec": {
   "display_name": "Python 3",
   "language": "python",
   "name": "python3"
  },
  "language_info": {
   "codemirror_mode": {
    "name": "ipython",
    "version": 2
   },
   "file_extension": ".py",
   "mimetype": "text/x-python",
   "name": "python",
   "nbconvert_exporter": "python",
   "pygments_lexer": "ipython2",
   "version": "2.7.6"
  }
 },
 "nbformat": 4,
 "nbformat_minor": 0
}
