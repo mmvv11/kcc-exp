{
 "cells": [
  {
   "cell_type": "markdown",
   "source": [
    "# ml-100k는 u.data\n",
    "# ml-latest-small는 ratings.csv"
   ],
   "metadata": {
    "collapsed": false
   }
  },
  {
   "cell_type": "code",
   "execution_count": 1,
   "metadata": {
    "collapsed": true
   },
   "outputs": [],
   "source": [
    "import pandas as pd\n",
    "import numpy as np\n",
    "import os\n",
    "from os.path import join"
   ]
  },
  {
   "cell_type": "markdown",
   "source": [],
   "metadata": {
    "collapsed": false
   }
  },
  {
   "cell_type": "markdown",
   "source": [],
   "metadata": {
    "collapsed": false
   }
  },
  {
   "cell_type": "markdown",
   "source": [],
   "metadata": {
    "collapsed": false
   }
  },
  {
   "cell_type": "markdown",
   "source": [
    "## 데이터 로딩"
   ],
   "metadata": {
    "collapsed": false
   }
  },
  {
   "cell_type": "code",
   "execution_count": 42,
   "outputs": [
    {
     "name": "stdout",
     "output_type": "stream",
     "text": [
      "\n",
      "ROOT_PATH: C:\\tech\\Study\\KCC\n",
      "DATA_PATH: C:\\tech\\Study\\KCC\\dataset\\Movielens\n",
      "SAVE_PATH: C:\\tech\\Study\\KCC\\dataset\\Movielens\n",
      "FILE_PATH1: C:\\tech\\Study\\KCC\\dataset\\Movielens\\ml-100k\\u.data\n",
      "FILE_PATH2: C:\\tech\\Study\\KCC\\dataset\\Movielens\\ml-latest-small\\ratings.csv\n",
      "\n"
     ]
    }
   ],
   "source": [
    "DATA_NAME = \"Movielens\"\n",
    "FILE_NAME1 = \"ml-100k\\\\u.data\"\n",
    "FILE_NAME2 = \"ml-latest-small\\\\ratings.csv\"\n",
    "COL_NAMES = ['user', 'item', 'rating', 'time']  # 초기 컬럼  user id | item id | rating | timestamp\n",
    "BASE_DATA_RATIO = 6  # N/10\n",
    "INC_RATIO = 4\n",
    "INC_STEP = 5\n",
    "\n",
    "# config\n",
    "ROOT_PATH = os.path.abspath(\"\")\n",
    "DATA_PATH = join(ROOT_PATH + \"\\\\dataset\", DATA_NAME)\n",
    "SAVE_PATH = DATA_PATH\n",
    "FILE_PATH1 = join(DATA_PATH, FILE_NAME1)\n",
    "FILE_PATH2 = join(DATA_PATH, FILE_NAME2)\n",
    "FILT_THRESHOLD = 10  # 최소 데이터 갯수\n",
    "cols = [\"user\", \"item\", \"time\"]  # 사용할 컬럼\n",
    "\n",
    "print(f\"\"\"\n",
    "ROOT_PATH: {ROOT_PATH}\n",
    "DATA_PATH: {DATA_PATH}\n",
    "SAVE_PATH: {SAVE_PATH}\n",
    "FILE_PATH1: {FILE_PATH1}\n",
    "FILE_PATH2: {FILE_PATH2}\n",
    "\"\"\")"
   ],
   "metadata": {
    "collapsed": false
   }
  },
  {
   "cell_type": "code",
   "execution_count": 43,
   "outputs": [],
   "source": [
    "def print_info(df):\n",
    "    \"\"\"\n",
    "    그래프 정보 출력\n",
    "    \"\"\"\n",
    "    print(f\"Total Edges : {len(df)}\\nTotal User : {len(df['user'].unique())}\\nTotal item : {len(df['item'].unique())} \\\n",
    "                \\nSmallest user id : {df['user'].unique().min()} \\\n",
    "                \\nbiggest user id : {df['user'].unique().max()} \\\n",
    "                \\nSmallest item id : {df['item'].unique().min()} \\\n",
    "                \\nbiggest item id : {df['item'].unique().max()} \\\n",
    "                \\nMin Interaction Per user : {df.user.value_counts().min()} \\\n",
    "                \\nMax Interaction Per user : {df.user.value_counts().max()} \\\n",
    "                \\nAvg Interaction Per user : {df.user.value_counts().mean()}\\\n",
    "                \\nMin Interaction Per item : {df.item.value_counts().min()} \\\n",
    "                \\nMax Interaction Per item : {df.item.value_counts().max()} \\\n",
    "                \\nAvg Interaction Per item : {df.item.value_counts().mean()}\")"
   ],
   "metadata": {
    "collapsed": false
   }
  },
  {
   "cell_type": "code",
   "execution_count": 44,
   "outputs": [],
   "source": [
    "# Load File\n",
    "ml_100k_df = pd.read_table(FILE_PATH1, names=COL_NAMES)\n",
    "ml_small_df = pd.read_csv(FILE_PATH2, names=COL_NAMES, skiprows=[0])"
   ],
   "metadata": {
    "collapsed": false
   }
  },
  {
   "cell_type": "code",
   "execution_count": 45,
   "outputs": [
    {
     "name": "stdout",
     "output_type": "stream",
     "text": [
      "Total Edges : 100000\n",
      "Total User : 943\n",
      "Total item : 1682                 \n",
      "Smallest user id : 1                 \n",
      "biggest user id : 943                 \n",
      "Smallest item id : 1                 \n",
      "biggest item id : 1682                 \n",
      "Min Interaction Per user : 20                 \n",
      "Max Interaction Per user : 737                 \n",
      "Avg Interaction Per user : 106.04453870625663                \n",
      "Min Interaction Per item : 1                 \n",
      "Max Interaction Per item : 583                 \n",
      "Avg Interaction Per item : 59.45303210463734\n"
     ]
    }
   ],
   "source": [
    "print_info(ml_100k_df)"
   ],
   "metadata": {
    "collapsed": false
   }
  },
  {
   "cell_type": "code",
   "execution_count": 46,
   "outputs": [
    {
     "name": "stdout",
     "output_type": "stream",
     "text": [
      "Total Edges : 100836\n",
      "Total User : 610\n",
      "Total item : 9724                 \n",
      "Smallest user id : 1                 \n",
      "biggest user id : 610                 \n",
      "Smallest item id : 1                 \n",
      "biggest item id : 193609                 \n",
      "Min Interaction Per user : 20                 \n",
      "Max Interaction Per user : 2698                 \n",
      "Avg Interaction Per user : 165.30491803278687                \n",
      "Min Interaction Per item : 1                 \n",
      "Max Interaction Per item : 329                 \n",
      "Avg Interaction Per item : 10.369806663924312\n"
     ]
    }
   ],
   "source": [
    "print_info(ml_small_df)"
   ],
   "metadata": {
    "collapsed": false
   }
  },
  {
   "cell_type": "markdown",
   "source": [],
   "metadata": {
    "collapsed": false
   }
  },
  {
   "cell_type": "markdown",
   "source": [],
   "metadata": {
    "collapsed": false
   }
  },
  {
   "cell_type": "markdown",
   "source": [
    "## 데이터 전처리\n",
    "\n",
    "* 중복 제거: 동일 유저, 동일 아이템에 대한 평점은 가장 최근 것만\n",
    "* 긍정 데이터: rating 5점 데이터\n",
    "* 유효 데이터: interaction 10개 이상"
   ],
   "metadata": {
    "collapsed": false
   }
  },
  {
   "cell_type": "markdown",
   "source": [
    "1. 중복 제거 (중복이 없다.)"
   ],
   "metadata": {
    "collapsed": false
   }
  },
  {
   "cell_type": "code",
   "execution_count": 47,
   "outputs": [
    {
     "data": {
      "text/plain": "Empty DataFrame\nColumns: [user, item, rating, time]\nIndex: []",
      "text/html": "<div>\n<style scoped>\n    .dataframe tbody tr th:only-of-type {\n        vertical-align: middle;\n    }\n\n    .dataframe tbody tr th {\n        vertical-align: top;\n    }\n\n    .dataframe thead th {\n        text-align: right;\n    }\n</style>\n<table border=\"1\" class=\"dataframe\">\n  <thead>\n    <tr style=\"text-align: right;\">\n      <th></th>\n      <th>user</th>\n      <th>item</th>\n      <th>rating</th>\n      <th>time</th>\n    </tr>\n  </thead>\n  <tbody>\n  </tbody>\n</table>\n</div>"
     },
     "execution_count": 47,
     "metadata": {},
     "output_type": "execute_result"
    }
   ],
   "source": [
    "ml_small_df[ml_small_df.duplicated(subset=['user', 'item'])]"
   ],
   "metadata": {
    "collapsed": false
   }
  },
  {
   "cell_type": "markdown",
   "source": [
    "2. 평점 5점 데이터는 1"
   ],
   "metadata": {
    "collapsed": false
   }
  },
  {
   "cell_type": "code",
   "execution_count": 48,
   "outputs": [],
   "source": [
    "def GetPositiveDf(df):\n",
    "    df['rating'] = df['rating'].apply(lambda x: 1 if x >= 5 else 0)\n",
    "    return df\n",
    "\n",
    "\n",
    "ml_100k_positive_df = GetPositiveDf(ml_100k_df)\n",
    "ml_small_positive_df = GetPositiveDf(ml_small_df)"
   ],
   "metadata": {
    "collapsed": false
   }
  },
  {
   "cell_type": "code",
   "execution_count": 49,
   "outputs": [
    {
     "data": {
      "text/plain": "       user  item  rating       time\n0       196   242       0  881250949\n1       186   302       0  891717742\n2        22   377       0  878887116\n3       244    51       0  880606923\n4       166   346       0  886397596\n...     ...   ...     ...        ...\n99995   880   476       0  880175444\n99996   716   204       1  879795543\n99997   276  1090       0  874795795\n99998    13   225       0  882399156\n99999    12   203       0  879959583\n\n[100000 rows x 4 columns]",
      "text/html": "<div>\n<style scoped>\n    .dataframe tbody tr th:only-of-type {\n        vertical-align: middle;\n    }\n\n    .dataframe tbody tr th {\n        vertical-align: top;\n    }\n\n    .dataframe thead th {\n        text-align: right;\n    }\n</style>\n<table border=\"1\" class=\"dataframe\">\n  <thead>\n    <tr style=\"text-align: right;\">\n      <th></th>\n      <th>user</th>\n      <th>item</th>\n      <th>rating</th>\n      <th>time</th>\n    </tr>\n  </thead>\n  <tbody>\n    <tr>\n      <th>0</th>\n      <td>196</td>\n      <td>242</td>\n      <td>0</td>\n      <td>881250949</td>\n    </tr>\n    <tr>\n      <th>1</th>\n      <td>186</td>\n      <td>302</td>\n      <td>0</td>\n      <td>891717742</td>\n    </tr>\n    <tr>\n      <th>2</th>\n      <td>22</td>\n      <td>377</td>\n      <td>0</td>\n      <td>878887116</td>\n    </tr>\n    <tr>\n      <th>3</th>\n      <td>244</td>\n      <td>51</td>\n      <td>0</td>\n      <td>880606923</td>\n    </tr>\n    <tr>\n      <th>4</th>\n      <td>166</td>\n      <td>346</td>\n      <td>0</td>\n      <td>886397596</td>\n    </tr>\n    <tr>\n      <th>...</th>\n      <td>...</td>\n      <td>...</td>\n      <td>...</td>\n      <td>...</td>\n    </tr>\n    <tr>\n      <th>99995</th>\n      <td>880</td>\n      <td>476</td>\n      <td>0</td>\n      <td>880175444</td>\n    </tr>\n    <tr>\n      <th>99996</th>\n      <td>716</td>\n      <td>204</td>\n      <td>1</td>\n      <td>879795543</td>\n    </tr>\n    <tr>\n      <th>99997</th>\n      <td>276</td>\n      <td>1090</td>\n      <td>0</td>\n      <td>874795795</td>\n    </tr>\n    <tr>\n      <th>99998</th>\n      <td>13</td>\n      <td>225</td>\n      <td>0</td>\n      <td>882399156</td>\n    </tr>\n    <tr>\n      <th>99999</th>\n      <td>12</td>\n      <td>203</td>\n      <td>0</td>\n      <td>879959583</td>\n    </tr>\n  </tbody>\n</table>\n<p>100000 rows × 4 columns</p>\n</div>"
     },
     "execution_count": 49,
     "metadata": {},
     "output_type": "execute_result"
    }
   ],
   "source": [
    "ml_100k_positive_df"
   ],
   "metadata": {
    "collapsed": false
   }
  },
  {
   "cell_type": "code",
   "execution_count": 50,
   "outputs": [
    {
     "name": "stdout",
     "output_type": "stream",
     "text": [
      "Total Edges : 100000\n",
      "Total User : 943\n",
      "Total item : 1682                 \n",
      "Smallest user id : 1                 \n",
      "biggest user id : 943                 \n",
      "Smallest item id : 1                 \n",
      "biggest item id : 1682                 \n",
      "Min Interaction Per user : 20                 \n",
      "Max Interaction Per user : 737                 \n",
      "Avg Interaction Per user : 106.04453870625663                \n",
      "Min Interaction Per item : 1                 \n",
      "Max Interaction Per item : 583                 \n",
      "Avg Interaction Per item : 59.45303210463734\n"
     ]
    }
   ],
   "source": [
    "print_info(ml_100k_positive_df)"
   ],
   "metadata": {
    "collapsed": false
   }
  },
  {
   "cell_type": "code",
   "execution_count": 51,
   "outputs": [
    {
     "name": "stdout",
     "output_type": "stream",
     "text": [
      "Total Edges : 100836\n",
      "Total User : 610\n",
      "Total item : 9724                 \n",
      "Smallest user id : 1                 \n",
      "biggest user id : 610                 \n",
      "Smallest item id : 1                 \n",
      "biggest item id : 193609                 \n",
      "Min Interaction Per user : 20                 \n",
      "Max Interaction Per user : 2698                 \n",
      "Avg Interaction Per user : 165.30491803278687                \n",
      "Min Interaction Per item : 1                 \n",
      "Max Interaction Per item : 329                 \n",
      "Avg Interaction Per item : 10.369806663924312\n"
     ]
    }
   ],
   "source": [
    "print_info(ml_small_positive_df)"
   ],
   "metadata": {
    "collapsed": false
   }
  },
  {
   "cell_type": "markdown",
   "source": [
    "3. 10개 미만 interaction 삭제"
   ],
   "metadata": {
    "collapsed": false
   }
  },
  {
   "cell_type": "code",
   "execution_count": 52,
   "outputs": [],
   "source": [
    "def GetVailidDf(fdf):\n",
    "    while fdf.user.value_counts().min() < FILT_THRESHOLD or fdf.item.value_counts().min() < FILT_THRESHOLD:\n",
    "        df_item = fdf.groupby('item').count()\n",
    "        df_item = df_item[df_item.user < FILT_THRESHOLD]\n",
    "        li = df_item.index.to_list()\n",
    "        fdf = fdf.drop(fdf.loc[fdf.item.isin(li)].index)\n",
    "        # print_info(fdf)\n",
    "        df_usr = fdf.groupby('user').count()\n",
    "        df_usr = df_usr[df_usr.item < FILT_THRESHOLD]\n",
    "        li = df_usr.index.to_list()\n",
    "        fdf = fdf.drop(fdf.loc[fdf.user.isin(li)].index)\n",
    "    fdf = fdf.reset_index().drop(columns=['index'])\n",
    "    return fdf\n",
    "\n",
    "\n",
    "ml_100k_vailid_df = GetVailidDf(ml_100k_positive_df)\n",
    "ml_small_vailid_df = GetVailidDf(ml_small_positive_df)"
   ],
   "metadata": {
    "collapsed": false
   }
  },
  {
   "cell_type": "code",
   "execution_count": 53,
   "outputs": [
    {
     "name": "stdout",
     "output_type": "stream",
     "text": [
      "Total Edges : 97953\n",
      "Total User : 943\n",
      "Total item : 1152                 \n",
      "Smallest user id : 1                 \n",
      "biggest user id : 943                 \n",
      "Smallest item id : 1                 \n",
      "biggest item id : 1615                 \n",
      "Min Interaction Per user : 18                 \n",
      "Max Interaction Per user : 589                 \n",
      "Avg Interaction Per user : 103.87380699893956                \n",
      "Min Interaction Per item : 10                 \n",
      "Max Interaction Per item : 583                 \n",
      "Avg Interaction Per item : 85.02864583333333\n"
     ]
    }
   ],
   "source": [
    "print_info(ml_100k_vailid_df)"
   ],
   "metadata": {
    "collapsed": false
   }
  },
  {
   "cell_type": "code",
   "execution_count": 54,
   "outputs": [
    {
     "name": "stdout",
     "output_type": "stream",
     "text": [
      "Total Edges : 81109\n",
      "Total User : 609\n",
      "Total item : 2269                 \n",
      "Smallest user id : 1                 \n",
      "biggest user id : 610                 \n",
      "Smallest item id : 1                 \n",
      "biggest item id : 187593                 \n",
      "Min Interaction Per user : 11                 \n",
      "Max Interaction Per user : 1634                 \n",
      "Avg Interaction Per user : 133.183908045977                \n",
      "Min Interaction Per item : 10                 \n",
      "Max Interaction Per item : 329                 \n",
      "Avg Interaction Per item : 35.7465843984134\n"
     ]
    }
   ],
   "source": [
    "print_info(ml_small_vailid_df)"
   ],
   "metadata": {
    "collapsed": false
   }
  },
  {
   "cell_type": "markdown",
   "source": [
    "4. 랜덤 섞기"
   ],
   "metadata": {
    "collapsed": false
   }
  },
  {
   "cell_type": "code",
   "execution_count": 55,
   "outputs": [],
   "source": [
    "def GetShuffledDf(df):\n",
    "    return df.sample(frac=1, random_state=42)\n",
    "\n",
    "pre_ml_100k_df = GetShuffledDf(ml_100k_vailid_df)\n",
    "pre_ml_small_df = GetShuffledDf(ml_small_vailid_df)"
   ],
   "metadata": {
    "collapsed": false
   }
  },
  {
   "cell_type": "code",
   "execution_count": 56,
   "outputs": [
    {
     "data": {
      "text/plain": "       user   item  rating        time\n35476   288   1194       0   976120462\n22818   186    748       0  1031080101\n59851   472   1693       0  1345842979\n63943   489   1393       0  1333101553\n51944   414    647       0   961512495\n...     ...    ...     ...         ...\n6265     51   1033       0  1230930537\n54886   429    225       0   828124615\n76820   599   6888       0  1498505002\n860       8    153       0   839463451\n15795   122  48043       0  1461562320\n\n[81109 rows x 4 columns]",
      "text/html": "<div>\n<style scoped>\n    .dataframe tbody tr th:only-of-type {\n        vertical-align: middle;\n    }\n\n    .dataframe tbody tr th {\n        vertical-align: top;\n    }\n\n    .dataframe thead th {\n        text-align: right;\n    }\n</style>\n<table border=\"1\" class=\"dataframe\">\n  <thead>\n    <tr style=\"text-align: right;\">\n      <th></th>\n      <th>user</th>\n      <th>item</th>\n      <th>rating</th>\n      <th>time</th>\n    </tr>\n  </thead>\n  <tbody>\n    <tr>\n      <th>35476</th>\n      <td>288</td>\n      <td>1194</td>\n      <td>0</td>\n      <td>976120462</td>\n    </tr>\n    <tr>\n      <th>22818</th>\n      <td>186</td>\n      <td>748</td>\n      <td>0</td>\n      <td>1031080101</td>\n    </tr>\n    <tr>\n      <th>59851</th>\n      <td>472</td>\n      <td>1693</td>\n      <td>0</td>\n      <td>1345842979</td>\n    </tr>\n    <tr>\n      <th>63943</th>\n      <td>489</td>\n      <td>1393</td>\n      <td>0</td>\n      <td>1333101553</td>\n    </tr>\n    <tr>\n      <th>51944</th>\n      <td>414</td>\n      <td>647</td>\n      <td>0</td>\n      <td>961512495</td>\n    </tr>\n    <tr>\n      <th>...</th>\n      <td>...</td>\n      <td>...</td>\n      <td>...</td>\n      <td>...</td>\n    </tr>\n    <tr>\n      <th>6265</th>\n      <td>51</td>\n      <td>1033</td>\n      <td>0</td>\n      <td>1230930537</td>\n    </tr>\n    <tr>\n      <th>54886</th>\n      <td>429</td>\n      <td>225</td>\n      <td>0</td>\n      <td>828124615</td>\n    </tr>\n    <tr>\n      <th>76820</th>\n      <td>599</td>\n      <td>6888</td>\n      <td>0</td>\n      <td>1498505002</td>\n    </tr>\n    <tr>\n      <th>860</th>\n      <td>8</td>\n      <td>153</td>\n      <td>0</td>\n      <td>839463451</td>\n    </tr>\n    <tr>\n      <th>15795</th>\n      <td>122</td>\n      <td>48043</td>\n      <td>0</td>\n      <td>1461562320</td>\n    </tr>\n  </tbody>\n</table>\n<p>81109 rows × 4 columns</p>\n</div>"
     },
     "execution_count": 56,
     "metadata": {},
     "output_type": "execute_result"
    }
   ],
   "source": [
    "pre_ml_small_df"
   ],
   "metadata": {
    "collapsed": false
   }
  },
  {
   "cell_type": "code",
   "execution_count": 57,
   "outputs": [
    {
     "data": {
      "text/plain": "'C:\\\\tech\\\\Study\\\\KCC\\\\dataset\\\\Movielens'"
     },
     "execution_count": 57,
     "metadata": {},
     "output_type": "execute_result"
    }
   ],
   "source": [
    "SAVE_PATH"
   ],
   "metadata": {
    "collapsed": false
   }
  },
  {
   "cell_type": "code",
   "execution_count": 58,
   "outputs": [],
   "source": [
    "pre_ml_100k_df.to_csv(SAVE_PATH + \"\\\\preprocessed_ml_100k.csv\", index=False)\n",
    "pre_ml_small_df.to_csv(SAVE_PATH + \"\\\\preprocessed_ml_small.csv\", index=False)"
   ],
   "metadata": {
    "collapsed": false
   }
  },
  {
   "cell_type": "markdown",
   "source": [],
   "metadata": {
    "collapsed": false
   }
  },
  {
   "cell_type": "markdown",
   "source": [],
   "metadata": {
    "collapsed": false
   }
  },
  {
   "cell_type": "markdown",
   "source": [
    "## 시나리오1, 유저와 아이템 모두 증가. (increase)"
   ],
   "metadata": {
    "collapsed": false
   }
  },
  {
   "cell_type": "code",
   "execution_count": 59,
   "outputs": [],
   "source": [
    "pre_ml_100k_df = pd.read_csv(os.path.join(SAVE_PATH, \"preprocessed_ml_100k.csv\"))\n",
    "pre_ml_small_df = pd.read_csv(os.path.join(SAVE_PATH, \"preprocessed_ml_small.csv\"))"
   ],
   "metadata": {
    "collapsed": false
   }
  },
  {
   "cell_type": "code",
   "execution_count": 60,
   "outputs": [],
   "source": [
    "def GetTimeSequenceDf(df):\n",
    "    df['time'] = pd.to_datetime(df['time'])\n",
    "    return df.sort_values(by=['time'])"
   ],
   "metadata": {
    "collapsed": false
   }
  },
  {
   "cell_type": "code",
   "execution_count": 61,
   "outputs": [],
   "source": [
    "pre_ml_100k_df = GetTimeSequenceDf(pre_ml_100k_df)\n",
    "pre_ml_small_df = GetTimeSequenceDf(pre_ml_small_df)"
   ],
   "metadata": {
    "collapsed": false
   }
  },
  {
   "cell_type": "code",
   "execution_count": 62,
   "outputs": [
    {
     "data": {
      "text/plain": "'C:\\\\tech\\\\Study\\\\KCC\\\\dataset\\\\Movielens\\\\increase\\\\'"
     },
     "execution_count": 62,
     "metadata": {},
     "output_type": "execute_result"
    }
   ],
   "source": [
    "# 경로 설정\n",
    "INCREASE_PATH = os.path.join(SAVE_PATH, \"increase\\\\\")\n",
    "INCREASE_PATH"
   ],
   "metadata": {
    "collapsed": false
   }
  },
  {
   "cell_type": "code",
   "execution_count": 63,
   "outputs": [
    {
     "name": "stdout",
     "output_type": "stream",
     "text": [
      "base block size: 58771\n",
      "base block size: 48665\n"
     ]
    }
   ],
   "source": [
    "# base block 설정\n",
    "def SetBaseBlock(df, path, category):\n",
    "    pivot = len(df) * BASE_DATA_RATIO // 10\n",
    "    print(f\"base block size: {pivot}\")\n",
    "    df[:pivot].to_csv(path + category + \"_inc0.csv\", index=False)\n",
    "\n",
    "\n",
    "SetBaseBlock(pre_ml_100k_df, INCREASE_PATH, \"ml_100k\")\n",
    "SetBaseBlock(pre_ml_small_df, INCREASE_PATH, \"ml_small\")"
   ],
   "metadata": {
    "collapsed": false
   }
  },
  {
   "cell_type": "code",
   "execution_count": 64,
   "outputs": [
    {
     "name": "stdout",
     "output_type": "stream",
     "text": [
      "Inc1 Block Size : 7836\n",
      "Inc2 Block Size : 7836\n",
      "Inc3 Block Size : 7836\n",
      "Inc4 Block Size : 7836\n",
      "Inc5 Block Size : 7838\n",
      "Inc1 Block Size : 6488\n",
      "Inc2 Block Size : 6488\n",
      "Inc3 Block Size : 6488\n",
      "Inc4 Block Size : 6488\n",
      "Inc5 Block Size : 6492\n"
     ]
    }
   ],
   "source": [
    "def SetIncreaseBlocks(df, category):\n",
    "    pivot = len(df) * BASE_DATA_RATIO // 10\n",
    "    remain = df[pivot:]\n",
    "    len_per_block = remain.shape[0] // INC_STEP\n",
    "    start = 0\n",
    "    inc_block = []\n",
    "    for i in range(INC_STEP):\n",
    "        if i != INC_STEP - 1:\n",
    "            inc_block.append(remain[start:start + len_per_block])\n",
    "        else:\n",
    "            inc_block.append(remain[start:])\n",
    "        start += len_per_block\n",
    "        print(f\"Inc{i + 1} Block Size : {len(inc_block[i])}\")\n",
    "        inc_block[i].to_csv(INCREASE_PATH + category + f\"_inc{i + 1}.csv\", index=False)\n",
    "\n",
    "\n",
    "SetIncreaseBlocks(pre_ml_100k_df, \"ml_100k\")\n",
    "SetIncreaseBlocks(pre_ml_small_df, \"ml_small\")"
   ],
   "metadata": {
    "collapsed": false
   }
  },
  {
   "cell_type": "markdown",
   "source": [],
   "metadata": {
    "collapsed": false
   }
  },
  {
   "cell_type": "markdown",
   "source": [],
   "metadata": {
    "collapsed": false
   }
  },
  {
   "cell_type": "markdown",
   "source": [
    "## 시나리오2, 유저와 아이템 모두 고정. (fixed)"
   ],
   "metadata": {
    "collapsed": false
   }
  },
  {
   "cell_type": "code",
   "execution_count": 65,
   "outputs": [],
   "source": [
    "pre_ml_100k_df = pd.read_csv(os.path.join(SAVE_PATH, \"preprocessed_ml_100k.csv\"))\n",
    "pre_ml_small_df = pd.read_csv(os.path.join(SAVE_PATH, \"preprocessed_ml_small.csv\"))"
   ],
   "metadata": {
    "collapsed": false
   }
  },
  {
   "cell_type": "code",
   "execution_count": 66,
   "outputs": [],
   "source": [
    "def GetTimeSequenceDf(df):\n",
    "    df['time'] = pd.to_datetime(df['time'])\n",
    "    return df.sort_values(by=['time'])"
   ],
   "metadata": {
    "collapsed": false
   }
  },
  {
   "cell_type": "code",
   "execution_count": 67,
   "outputs": [],
   "source": [
    "pre_ml_100k_df = GetTimeSequenceDf(pre_ml_100k_df)\n",
    "pre_ml_small_df = GetTimeSequenceDf(pre_ml_small_df)"
   ],
   "metadata": {
    "collapsed": false
   }
  },
  {
   "cell_type": "code",
   "execution_count": 68,
   "outputs": [
    {
     "data": {
      "text/plain": "'C:\\\\tech\\\\Study\\\\KCC\\\\dataset\\\\Movielens\\\\fixed\\\\'"
     },
     "execution_count": 68,
     "metadata": {},
     "output_type": "execute_result"
    }
   ],
   "source": [
    "FIXED_PATH = os.path.join(SAVE_PATH, \"fixed\\\\\")\n",
    "FIXED_PATH"
   ],
   "metadata": {
    "collapsed": false
   }
  },
  {
   "cell_type": "code",
   "execution_count": 69,
   "outputs": [
    {
     "name": "stdout",
     "output_type": "stream",
     "text": [
      "base block size: 58771\n",
      "base block size: 48665\n"
     ]
    }
   ],
   "source": [
    "# base block 설정\n",
    "SetBaseBlock(pre_ml_100k_df, FIXED_PATH, \"ml_100k\")\n",
    "SetBaseBlock(pre_ml_small_df, FIXED_PATH, \"ml_small\")"
   ],
   "metadata": {
    "collapsed": false
   }
  },
  {
   "cell_type": "code",
   "execution_count": 70,
   "outputs": [
    {
     "name": "stdout",
     "output_type": "stream",
     "text": [
      "Inc1 Block Size : 1040\n",
      "Inc2 Block Size : 1040\n",
      "Inc3 Block Size : 1040\n",
      "Inc4 Block Size : 1040\n",
      "Inc5 Block Size : 1041\n",
      "Inc1 Block Size : 319\n",
      "Inc2 Block Size : 319\n",
      "Inc3 Block Size : 319\n",
      "Inc4 Block Size : 319\n",
      "Inc5 Block Size : 322\n"
     ]
    }
   ],
   "source": [
    "def SetFixedBlocks(df, category):\n",
    "    pivot = len(df) * BASE_DATA_RATIO // 10\n",
    "    # base block에 있는 unique한 user, item index 추출\n",
    "    unique_user = df[:pivot]['user'].unique()\n",
    "    unique_item = df[:pivot]['item'].unique()\n",
    "    # remain block에서 unique user/item에 해당하는 데이터만 추출\n",
    "    remain = df[pivot:]\n",
    "    fixed_df = remain[remain['user'].isin(unique_user) & remain['item'].isin(unique_item)]\n",
    "    len_per_block = fixed_df.shape[0] // INC_STEP\n",
    "    start = 0\n",
    "    inc_block = []\n",
    "    for i in range(INC_STEP):\n",
    "        if i != INC_STEP - 1:\n",
    "            inc_block.append(fixed_df[start:start + len_per_block])\n",
    "        else:\n",
    "            inc_block.append(fixed_df[start:])\n",
    "        start += len_per_block\n",
    "        print(f\"Inc{i + 1} Block Size : {len(inc_block[i])}\")\n",
    "        inc_block[i].to_csv(FIXED_PATH + category + f\"_inc{i + 1}.csv\", index=False)\n",
    "\n",
    "\n",
    "SetFixedBlocks(pre_ml_100k_df, \"ml_100k\")\n",
    "SetFixedBlocks(pre_ml_small_df, \"ml_small\")"
   ],
   "metadata": {
    "collapsed": false
   }
  },
  {
   "cell_type": "markdown",
   "source": [],
   "metadata": {
    "collapsed": false
   }
  },
  {
   "cell_type": "markdown",
   "source": [],
   "metadata": {
    "collapsed": false
   }
  },
  {
   "cell_type": "markdown",
   "source": [
    "## 시나리오3, 유저만 증가 (user)"
   ],
   "metadata": {
    "collapsed": false
   }
  },
  {
   "cell_type": "code",
   "execution_count": 46,
   "outputs": [],
   "source": [
    "pre_ml_100k_df = pd.read_csv(os.path.join(SAVE_PATH, \"preprocessed_ml_100k.csv\"))\n",
    "pre_ml_small_df = pd.read_csv(os.path.join(SAVE_PATH, \"preprocessed_ml_small.csv\"))"
   ],
   "metadata": {
    "collapsed": false
   }
  },
  {
   "cell_type": "code",
   "execution_count": 47,
   "outputs": [
    {
     "data": {
      "text/plain": "'C:\\\\Users\\\\PC\\\\Desktop\\\\Study\\\\KCC-지원-dataset\\\\dataset\\\\Movielens\\\\user\\\\'"
     },
     "execution_count": 47,
     "metadata": {},
     "output_type": "execute_result"
    }
   ],
   "source": [
    "USER_PATH = os.path.join(SAVE_PATH, \"user\\\\\")\n",
    "USER_PATH"
   ],
   "metadata": {
    "collapsed": false
   }
  },
  {
   "cell_type": "code",
   "execution_count": 48,
   "outputs": [
    {
     "name": "stdout",
     "output_type": "stream",
     "text": [
      "base block size: 56275\n",
      "base block size: 45332\n"
     ]
    }
   ],
   "source": [
    "# base block 설정\n",
    "SetBaseBlock(pre_ml_100k_df, USER_PATH, \"ml_100k\")\n",
    "SetBaseBlock(pre_ml_small_df, USER_PATH, \"ml_small\")"
   ],
   "metadata": {
    "collapsed": false
   }
  },
  {
   "cell_type": "code",
   "execution_count": 49,
   "outputs": [
    {
     "name": "stdout",
     "output_type": "stream",
     "text": [
      "Inc1 Block Size : 4173\n",
      "Inc2 Block Size : 4173\n",
      "Inc3 Block Size : 4173\n",
      "Inc4 Block Size : 4173\n",
      "Inc5 Block Size : 4174\n",
      "Inc1 Block Size : 3613\n",
      "Inc2 Block Size : 3613\n",
      "Inc3 Block Size : 3613\n",
      "Inc4 Block Size : 3613\n",
      "Inc5 Block Size : 3615\n"
     ]
    }
   ],
   "source": [
    "def SetUserBlocks(df, category):\n",
    "    pivot = len(df) * BASE_DATA_RATIO // 10\n",
    "    # base block에 있는 unique한 user index 추출\n",
    "    unique_user = df[:pivot]['user'].unique()\n",
    "    # base block에 존재하는 unique한 user index를 제외하여 remain을 형성하자.\n",
    "    remain = df[pivot:]\n",
    "    new_user_remain_df = remain[~remain['user'].isin(unique_user)]\n",
    "    len_per_block = new_user_remain_df.shape[0] // INC_STEP\n",
    "    start = 0\n",
    "    inc_block = []\n",
    "    for i in range(INC_STEP):\n",
    "        if i != INC_STEP - 1:\n",
    "            inc_block.append(new_user_remain_df[start:start + len_per_block])\n",
    "        else:\n",
    "            inc_block.append(new_user_remain_df[start:])\n",
    "        start += len_per_block\n",
    "        print(f\"Inc{i + 1} Block Size : {len(inc_block[i])}\")\n",
    "        inc_block[i].to_csv(USER_PATH + category + f\"_inc{i + 1}.csv\")\n",
    "\n",
    "\n",
    "SetUserBlocks(pre_ml_100k_df, \"ml_100k\")\n",
    "SetUserBlocks(pre_ml_small_df, \"ml_small\")"
   ],
   "metadata": {
    "collapsed": false
   }
  },
  {
   "cell_type": "markdown",
   "source": [],
   "metadata": {
    "collapsed": false
   }
  },
  {
   "cell_type": "markdown",
   "source": [],
   "metadata": {
    "collapsed": false
   }
  },
  {
   "cell_type": "markdown",
   "source": [
    "## 시나리오4, 아이템만 증가. (item)"
   ],
   "metadata": {
    "collapsed": false
   }
  },
  {
   "cell_type": "code",
   "execution_count": 50,
   "outputs": [],
   "source": [
    "pre_ml_100k_df = pd.read_csv(os.path.join(SAVE_PATH, \"preprocessed_ml_100k.csv\"))\n",
    "pre_ml_small_df = pd.read_csv(os.path.join(SAVE_PATH, \"preprocessed_ml_small.csv\"))"
   ],
   "metadata": {
    "collapsed": false
   }
  },
  {
   "cell_type": "code",
   "execution_count": 51,
   "outputs": [
    {
     "data": {
      "text/plain": "'C:\\\\Users\\\\PC\\\\Desktop\\\\Study\\\\KCC-지원-dataset\\\\dataset\\\\Movielens\\\\item\\\\'"
     },
     "execution_count": 51,
     "metadata": {},
     "output_type": "execute_result"
    }
   ],
   "source": [
    "ITEM_PATH = os.path.join(SAVE_PATH, \"item\\\\\")\n",
    "ITEM_PATH"
   ],
   "metadata": {
    "collapsed": false
   }
  },
  {
   "cell_type": "code",
   "execution_count": 52,
   "outputs": [
    {
     "name": "stdout",
     "output_type": "stream",
     "text": [
      "base block size: 56275\n",
      "base block size: 45332\n"
     ]
    }
   ],
   "source": [
    "# base block 설정\n",
    "SetBaseBlock(pre_ml_100k_df, ITEM_PATH, \"ml_100k\")\n",
    "SetBaseBlock(pre_ml_small_df, ITEM_PATH, \"ml_small\")"
   ],
   "metadata": {
    "collapsed": false
   }
  },
  {
   "cell_type": "code",
   "execution_count": 53,
   "outputs": [
    {
     "name": "stdout",
     "output_type": "stream",
     "text": [
      "Inc1 Block Size : 68\n",
      "Inc2 Block Size : 68\n",
      "Inc3 Block Size : 68\n",
      "Inc4 Block Size : 68\n",
      "Inc5 Block Size : 69\n",
      "Inc1 Block Size : 512\n",
      "Inc2 Block Size : 512\n",
      "Inc3 Block Size : 512\n",
      "Inc4 Block Size : 512\n",
      "Inc5 Block Size : 516\n"
     ]
    }
   ],
   "source": [
    "def SetItemBlocks(df, category):\n",
    "    pivot = len(df) * BASE_DATA_RATIO // 10\n",
    "    # base block에 있는 unique한 item index 추출\n",
    "    unique_item = df[:pivot]['item'].unique()\n",
    "    # base block에 존재하는 unique한 user index를 제외하여 remain을 형성하자.\n",
    "    remain = df[pivot:]\n",
    "    new_item_remain_df = remain[~remain['item'].isin(unique_item)]\n",
    "    len_per_block = new_item_remain_df.shape[0] // INC_STEP\n",
    "    start = 0\n",
    "    inc_block = []\n",
    "    for i in range(INC_STEP):\n",
    "        if i != INC_STEP - 1:\n",
    "            inc_block.append(new_item_remain_df[start:start + len_per_block])\n",
    "        else:\n",
    "            inc_block.append(new_item_remain_df[start:])\n",
    "        start += len_per_block\n",
    "        print(f\"Inc{i + 1} Block Size : {len(inc_block[i])}\")\n",
    "        inc_block[i].to_csv(ITEM_PATH + category + f\"_inc{i + 1}.csv\")\n",
    "\n",
    "SetItemBlocks(pre_ml_100k_df, \"ml_100k\")\n",
    "SetItemBlocks(pre_ml_small_df, \"ml_small\")"
   ],
   "metadata": {
    "collapsed": false
   }
  }
 ],
 "metadata": {
  "kernelspec": {
   "display_name": "Python 3",
   "language": "python",
   "name": "python3"
  },
  "language_info": {
   "codemirror_mode": {
    "name": "ipython",
    "version": 2
   },
   "file_extension": ".py",
   "mimetype": "text/x-python",
   "name": "python",
   "nbconvert_exporter": "python",
   "pygments_lexer": "ipython2",
   "version": "2.7.6"
  }
 },
 "nbformat": 4,
 "nbformat_minor": 0
}
