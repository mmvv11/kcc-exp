{
 "cells": [
  {
   "cell_type": "code",
   "execution_count": null,
   "outputs": [],
   "source": [
    "import os\n",
    "\n",
    "os.environ[\"CUDA_DEVICE_ORDER\"]=\"PCI_BUS_ID\"  # Arrange GPU devices starting from 0\n",
    "os.environ[\"CUDA_VISIBLE_DEVICES\"]= \"2\"  # Set the GPU 2 to use"
   ],
   "metadata": {
    "collapsed": false
   }
  },
  {
   "cell_type": "markdown",
   "source": [
    "## 무비렌즈"
   ],
   "metadata": {
    "collapsed": false
   }
  },
  {
   "cell_type": "code",
   "execution_count": 1,
   "outputs": [],
   "source": [
    "import torch\n",
    "import torch.nn as nn\n",
    "import torch.optim as optim\n",
    "import pandas as pd\n",
    "from sklearn.model_selection import train_test_split\n",
    "from torch.utils.data import Dataset, DataLoader\n",
    "from tqdm import tqdm"
   ],
   "metadata": {
    "collapsed": false
   }
  },
  {
   "cell_type": "code",
   "execution_count": 2,
   "outputs": [
    {
     "data": {
      "text/plain": "device(type='cuda')"
     },
     "execution_count": 2,
     "metadata": {},
     "output_type": "execute_result"
    }
   ],
   "source": [
    "# gpu 설정\n",
    "use_cuda = True\n",
    "\n",
    "use_cuda = use_cuda and torch.cuda.is_available()\n",
    "device = torch.device(\"cuda\" if use_cuda else \"cpu\")\n",
    "device"
   ],
   "metadata": {
    "collapsed": false
   }
  },
  {
   "cell_type": "markdown",
   "source": [
    "### 데이터 준비"
   ],
   "metadata": {
    "collapsed": false
   }
  },
  {
   "cell_type": "code",
   "execution_count": 3,
   "outputs": [],
   "source": [
    "# 데이터 로드\n",
    "\n",
    "\"\"\"\n",
    "필요한 컬럼은 유저, 아이템, rating\n",
    "\n",
    "우선 간단하게 빨리 해보는게 중요하니,\n",
    "rating이 5점이면 rating 컬럼을 1\n",
    "아니라면 0로 바꾸자고.\n",
    "\"\"\"\n",
    "\n",
    "\n",
    "def getDataByScenario(scenario):\n",
    "    \"\"\"\n",
    "    :param scenario: increase, fixed, user, item\n",
    "    :return: dfs\n",
    "    \"\"\"\n",
    "    dfs = []\n",
    "\n",
    "    for i in range(6):\n",
    "        df = pd.read_csv(f\"./dataset/Movielens/{scenario}/ml_1m_inc{i}.csv\")\n",
    "        dfs.append(df)\n",
    "    return dfs"
   ],
   "metadata": {
    "collapsed": false
   }
  },
  {
   "cell_type": "code",
   "execution_count": 4,
   "outputs": [
    {
     "data": {
      "text/plain": "6"
     },
     "execution_count": 4,
     "metadata": {},
     "output_type": "execute_result"
    }
   ],
   "source": [
    "len(getDataByScenario(\"item\"))"
   ],
   "metadata": {
    "collapsed": false
   }
  },
  {
   "cell_type": "markdown",
   "source": [
    "## dataloader 정의"
   ],
   "metadata": {
    "collapsed": false
   }
  },
  {
   "cell_type": "code",
   "execution_count": 5,
   "outputs": [],
   "source": [
    "class MovielensDataset(Dataset):\n",
    "    def __init__(self, df):\n",
    "        self.df = df\n",
    "\n",
    "    def __len__(self):\n",
    "        return len(self.df)\n",
    "\n",
    "    def __getitem__(self, idx):\n",
    "        user = self.df.iloc[idx]['user']\n",
    "        item = self.df.iloc[idx]['item']\n",
    "        rating = self.df.iloc[idx]['rating']\n",
    "        return user, item, rating"
   ],
   "metadata": {
    "collapsed": false
   }
  },
  {
   "cell_type": "markdown",
   "source": [],
   "metadata": {
    "collapsed": false
   }
  },
  {
   "cell_type": "markdown",
   "source": [],
   "metadata": {
    "collapsed": false
   }
  },
  {
   "cell_type": "markdown",
   "source": [
    "## 모델 정의"
   ],
   "metadata": {
    "collapsed": false
   }
  },
  {
   "cell_type": "code",
   "execution_count": 6,
   "outputs": [],
   "source": [
    "# NCF 모델\n",
    "class NCF(nn.Module):\n",
    "    def __init__(self, n_users, n_movies, emb_size=8, hidden_size=64):\n",
    "        super(NCF, self).__init__()\n",
    "        self.user_embedding = nn.Embedding(n_users, emb_size)\n",
    "        self.movie_embedding = nn.Embedding(n_movies, emb_size)\n",
    "        self.fc_layers = nn.Sequential(\n",
    "            nn.Linear(emb_size * 2, hidden_size),\n",
    "            nn.ReLU(),\n",
    "            nn.Linear(hidden_size, hidden_size),\n",
    "            nn.ReLU(),\n",
    "            nn.Linear(hidden_size, 1),\n",
    "            nn.Sigmoid()\n",
    "        )\n",
    "\n",
    "    def forward(self, user_input, movie_input):\n",
    "        user_embedded = self.user_embedding(user_input)\n",
    "        movie_embedded = self.movie_embedding(movie_input)\n",
    "        input_concat = torch.cat([user_embedded, movie_embedded], dim=-1)\n",
    "        prediction = self.fc_layers(input_concat)\n",
    "        return prediction"
   ],
   "metadata": {
    "collapsed": false
   }
  },
  {
   "cell_type": "markdown",
   "source": [],
   "metadata": {
    "collapsed": false
   }
  },
  {
   "cell_type": "markdown",
   "source": [],
   "metadata": {
    "collapsed": false
   }
  },
  {
   "cell_type": "markdown",
   "source": [
    "## 모델 train/test 함수 정의"
   ],
   "metadata": {
    "collapsed": false
   }
  },
  {
   "cell_type": "code",
   "execution_count": 7,
   "outputs": [],
   "source": [
    "def train(model, device, train_loader, optimizer, epoch):\n",
    "    model.train()\n",
    "    criterion = nn.BCELoss()\n",
    "\n",
    "    train_loss = 0\n",
    "    for user, item, rating in train_loader:\n",
    "        user, item, rating = user.to(device), item.to(device), rating.to(device)\n",
    "        optimizer.zero_grad()\n",
    "        output = model(user, item).squeeze()\n",
    "        loss = criterion(output, rating.float())\n",
    "        loss.backward()\n",
    "        optimizer.step()\n",
    "        train_loss += loss.item()\n",
    "\n",
    "    train_loss /= len(train_loader)\n",
    "    # print('Train Epoch: {} \\tLoss: {:.6f}'.format(epoch, train_loss))\n",
    "\n",
    "    return train_loss"
   ],
   "metadata": {
    "collapsed": false
   }
  },
  {
   "cell_type": "code",
   "execution_count": 8,
   "outputs": [],
   "source": [
    "def recall_at_k(output, target, k):\n",
    "    if len(output) < k:\n",
    "        k = len(output)\n",
    "    _, idx = torch.topk(output, k=k)\n",
    "    hit = torch.sum(target[idx])\n",
    "    return hit.float() / target.sum().float() if target.sum().float() else torch.Tensor([0])\n",
    "\n",
    "\n",
    "def test(model, device, test_loader, k=20):\n",
    "    model.eval()\n",
    "    criterion = nn.BCELoss()\n",
    "\n",
    "    test_loss = 0\n",
    "    test_recall = 0\n",
    "    with torch.no_grad():\n",
    "        for user, item, rating in test_loader:\n",
    "            user, item, rating = user.to(device), item.to(device), rating.to(device)\n",
    "            output = model(user, item).squeeze()\n",
    "            loss = criterion(output, rating.float())\n",
    "            test_loss += loss.item()\n",
    "            test_recall += recall_at_k(output, rating, k).item()  # recall@20 기준\n",
    "    test_loss /= len(test_loader)\n",
    "    test_recall /= len(test_loader)\n",
    "\n",
    "    return test_loss, test_recall"
   ],
   "metadata": {
    "collapsed": false
   }
  },
  {
   "cell_type": "markdown",
   "source": [],
   "metadata": {
    "collapsed": false
   }
  },
  {
   "cell_type": "markdown",
   "source": [],
   "metadata": {
    "collapsed": false
   }
  },
  {
   "cell_type": "markdown",
   "source": [
    "### 모델 학습\n",
    "\n",
    "1. Full\n",
    "2. EWC"
   ],
   "metadata": {
    "collapsed": false
   }
  },
  {
   "cell_type": "code",
   "execution_count": 9,
   "outputs": [],
   "source": [
    "### Config..\n",
    "EPOCH = 1\n",
    "SEED = 42\n",
    "BATCH_SIZE = 64\n",
    "N_USER = 6040\n",
    "N_ITEM = 3952\n",
    "\n",
    "torch.manual_seed(SEED)\n",
    "torch.cuda.manual_seed(SEED)\n",
    "torch.backends.cudnn.deterministic = True"
   ],
   "metadata": {
    "collapsed": false
   }
  },
  {
   "cell_type": "markdown",
   "source": [
    "1. Full"
   ],
   "metadata": {
    "collapsed": false
   }
  },
  {
   "cell_type": "code",
   "execution_count": 10,
   "outputs": [],
   "source": [
    "def concat_df(dfs, k):\n",
    "    return pd.concat(dfs[:k+1], axis=0)"
   ],
   "metadata": {
    "collapsed": false
   }
  },
  {
   "cell_type": "code",
   "execution_count": 13,
   "outputs": [],
   "source": [
    "def getFullResultByScenario(scenario):\n",
    "    dfs = getDataByScenario(scenario)\n",
    "\n",
    "    inference_recall_list = []\n",
    "    for i in range(len(dfs)-1):\n",
    "\n",
    "        # 모델 객체 생성\n",
    "        n_users = N_USER + 1\n",
    "        n_movies = N_ITEM + 1\n",
    "        model = NCF(n_users, n_movies).to(device)\n",
    "        # 옵티마이저 설정\n",
    "        optimizer = optim.Adam(model.parameters(), lr=0.001)\n",
    "\n",
    "\n",
    "        # train\n",
    "        train_dataset = MovielensDataset(concat_df(dfs, i))\n",
    "        train_loader = DataLoader(train_dataset, batch_size=BATCH_SIZE, shuffle=True)\n",
    "\n",
    "        for e in tqdm(range(1, EPOCH+1)):\n",
    "            train(model, device, train_loader, optimizer, e)\n",
    "\n",
    "        # inference test\n",
    "        inference_dataset = MovielensDataset(dfs[i+1])\n",
    "        inference_loader = DataLoader(inference_dataset, batch_size=BATCH_SIZE, shuffle=True)\n",
    "\n",
    "        _, inference_recall = test(model, device, inference_loader)\n",
    "        inference_recall_list.append(inference_recall)\n",
    "        print(f\"******* {scenario} scenario At TASK{i} inference recall20 = {inference_recall}\\n\")\n",
    "\n",
    "        # forgetting test\n",
    "        # i == 0 인 경우는 제외\n",
    "        if i == 0 :\n",
    "            continue\n",
    "        forgetting_dataset_list = dfs[:i]\n",
    "\n",
    "        forgetting_recall_list = []\n",
    "        for j, f in enumerate(forgetting_dataset_list):\n",
    "            forgetting_dataset = MovielensDataset(f)\n",
    "            forgetting_loader = DataLoader(forgetting_dataset, batch_size=BATCH_SIZE, shuffle=True)\n",
    "            _, forgetting_recall = test(model, device, forgetting_loader)\n",
    "            forgetting_recall_list.append(forgetting_recall)\n",
    "            print(f\"******* {scenario} scenario At TASK{i} prev TASK{j} forgetting recall20 = {forgetting_recall}\")\n",
    "        average_forgetting_recall = sum(forgetting_recall_list) / len(forgetting_recall_list)\n",
    "        print(f\"\\n******* {scenario} scenario At TASK{i} forgetting recall20 average = {average_forgetting_recall}\")\n",
    "\n",
    "    average_inference_recall = sum(inference_recall_list)/len(inference_recall_list)\n",
    "    print(f\"******* {scenario} scenario At TASK{i} inference recall20 average = {average_inference_recall}\")\n",
    "\n",
    "    return average_inference_recall, average_forgetting_recall"
   ],
   "metadata": {
    "collapsed": false
   }
  },
  {
   "cell_type": "code",
   "execution_count": 14,
   "outputs": [
    {
     "name": "stderr",
     "output_type": "stream",
     "text": [
      "100%|██████████| 1/1 [01:31<00:00, 91.17s/it]\n"
     ]
    },
    {
     "name": "stdout",
     "output_type": "stream",
     "text": [
      "******* increase scenario At TASK0 inference recall20 = 0.5192720418731817\n",
      "\n"
     ]
    },
    {
     "name": "stderr",
     "output_type": "stream",
     "text": [
      "100%|██████████| 1/1 [01:44<00:00, 104.14s/it]\n"
     ]
    },
    {
     "name": "stdout",
     "output_type": "stream",
     "text": [
      "******* increase scenario At TASK1 inference recall20 = 0.5413823056998875\n",
      "\n",
      "******* increase scenario At TASK0 forgetting recall20 = 0.6248394272245803\n",
      "\n",
      "******* increase scenario At TASK0 forgetting recall20 average = 0.6248394272245803\n"
     ]
    },
    {
     "name": "stderr",
     "output_type": "stream",
     "text": [
      "100%|██████████| 1/1 [01:55<00:00, 115.82s/it]\n"
     ]
    },
    {
     "name": "stdout",
     "output_type": "stream",
     "text": [
      "******* increase scenario At TASK2 inference recall20 = 0.5617415812179697\n",
      "\n",
      "******* increase scenario At TASK0 forgetting recall20 = 0.6273606803631889\n",
      "******* increase scenario At TASK1 forgetting recall20 = 0.6325205555073827\n",
      "\n",
      "******* increase scenario At TASK1 forgetting recall20 average = 0.6299406179352858\n"
     ]
    },
    {
     "name": "stderr",
     "output_type": "stream",
     "text": [
      "100%|██████████| 1/1 [02:09<00:00, 129.31s/it]\n"
     ]
    },
    {
     "name": "stdout",
     "output_type": "stream",
     "text": [
      "******* increase scenario At TASK3 inference recall20 = 0.5529543891596832\n",
      "\n",
      "******* increase scenario At TASK0 forgetting recall20 = 0.6327924912771947\n",
      "******* increase scenario At TASK1 forgetting recall20 = 0.6354449129491162\n",
      "******* increase scenario At TASK2 forgetting recall20 = 0.665458995428345\n",
      "\n",
      "******* increase scenario At TASK2 forgetting recall20 average = 0.644565466551552\n"
     ]
    },
    {
     "name": "stderr",
     "output_type": "stream",
     "text": [
      "100%|██████████| 1/1 [02:21<00:00, 141.59s/it]\n"
     ]
    },
    {
     "name": "stdout",
     "output_type": "stream",
     "text": [
      "******* increase scenario At TASK4 inference recall20 = 0.6346755686691038\n",
      "\n",
      "******* increase scenario At TASK0 forgetting recall20 = 0.6318242966864538\n",
      "******* increase scenario At TASK1 forgetting recall20 = 0.6342657711670053\n",
      "******* increase scenario At TASK2 forgetting recall20 = 0.6737529997161333\n",
      "******* increase scenario At TASK3 forgetting recall20 = 0.6512151541854975\n",
      "\n",
      "******* increase scenario At TASK3 forgetting recall20 average = 0.6477645554387724\n"
     ]
    }
   ],
   "source": [
    "full_increase_inference, full_increase_forgetting  = getFullResultByScenario(\"increase\")"
   ],
   "metadata": {
    "collapsed": false
   }
  },
  {
   "cell_type": "code",
   "execution_count": null,
   "outputs": [],
   "source": [
    "full_fixed_inference, full_fixed_forgetting = getFullResultByScenario(\"fixed\")"
   ],
   "metadata": {
    "collapsed": false
   }
  },
  {
   "cell_type": "code",
   "execution_count": null,
   "outputs": [],
   "source": [
    "full_user_inference, full_user_forgetting = getFullResultByScenario(\"user\")"
   ],
   "metadata": {
    "collapsed": false
   }
  },
  {
   "cell_type": "code",
   "execution_count": null,
   "outputs": [],
   "source": [
    "full_item_inference, full_item_forgetting = getFullResultByScenario(\"item\")"
   ],
   "metadata": {
    "collapsed": false
   }
  },
  {
   "cell_type": "markdown",
   "source": [],
   "metadata": {
    "collapsed": false
   }
  },
  {
   "cell_type": "markdown",
   "source": [],
   "metadata": {
    "collapsed": false
   }
  },
  {
   "cell_type": "markdown",
   "source": [
    "2. EWC"
   ],
   "metadata": {
    "collapsed": false
   }
  },
  {
   "cell_type": "code",
   "execution_count": 17,
   "outputs": [],
   "source": [
    "# Task가 끝날 때 마다 optpar와 fisher를 저장해주는 함수.\n",
    "def on_task_update(model, device, train_loader, optimizer, task_id, fisher_dict, optpar_dict):\n",
    "    model.train()\n",
    "    criterion = nn.BCELoss()\n",
    "    optimizer.zero_grad()\n",
    "\n",
    "    # accumulating gradients\n",
    "    for user, item, rating in train_loader:\n",
    "        user, item, rating = user.to(device), item.to(device), rating.to(device)\n",
    "        output = model(user, item).squeeze()\n",
    "        loss = criterion(output, rating.float())\n",
    "        loss.backward()\n",
    "\n",
    "    fisher_dict[task_id] = {}\n",
    "    optpar_dict[task_id] = {}\n",
    "\n",
    "    # gradients accumulated can be used to calculate fisher\n",
    "    for name, param in model.named_parameters():\n",
    "        fisher_dict[task_id][name] = param.grad.data.clone().pow(2)  # 누적 grad 값\n",
    "        optpar_dict[task_id][name] = param.data.clone()  # 최적 grad 값"
   ],
   "metadata": {
    "collapsed": false
   }
  },
  {
   "cell_type": "code",
   "execution_count": 18,
   "outputs": [],
   "source": [
    "# EWC를 적용한 train 함수\n",
    "def train_ewc(model, device, train_loader, optimizer, epoch, task_id, fisher_dict, optpar_dict, ewc_lambda):\n",
    "    model.train()\n",
    "    criterion = nn.BCELoss()\n",
    "\n",
    "    train_loss = 0\n",
    "    for user, item, rating in train_loader:\n",
    "        user, item, rating = user.to(device), item.to(device), rating.to(device)\n",
    "        optimizer.zero_grad()\n",
    "        output = model(user, item).squeeze()\n",
    "        loss = criterion(output, rating.float())\n",
    "        train_loss += loss.item()\n",
    "\n",
    "        # EWC 적용 부분\n",
    "        for task in range(task_id):\n",
    "            for name, param in model.named_parameters():\n",
    "                fisher = fisher_dict[task][name]\n",
    "                optpar = optpar_dict[task][name]\n",
    "                train_loss += (fisher * (optpar - param).pow(2)).sum() * ewc_lambda\n",
    "\n",
    "        loss.backward()\n",
    "        optimizer.step()\n",
    "\n",
    "    train_loss /= len(train_loader)\n",
    "    # print('Train Epoch: {} \\tLoss: {:.6f}'.format(epoch, train_loss))\n",
    "\n",
    "    return train_loss"
   ],
   "metadata": {
    "collapsed": false
   }
  },
  {
   "cell_type": "code",
   "execution_count": 19,
   "outputs": [],
   "source": [
    "def getEWCResultByScenario(scenario):\n",
    "    dfs = getDataByScenario(scenario)\n",
    "\n",
    "    # 모델 객체 생성\n",
    "    n_users = N_USER + 1\n",
    "    n_movies = N_ITEM + 1\n",
    "    model = NCF(n_users, n_movies).to(device)\n",
    "    # 옵티마이저 설정\n",
    "    optimizer = optim.Adam(model.parameters(), lr=0.001)\n",
    "\n",
    "    # EWC에 필요한 변수\n",
    "    fisher_dict = {}\n",
    "    optpar_dict = {}\n",
    "    ewc_lambda = 0.4  # ewc 강도 조절.. 높을수록 이전 파라미터의 중요도가 높아짐\n",
    "\n",
    "    inference_recall_list = []\n",
    "    for i in range(len(dfs)-1):\n",
    "        # train\n",
    "        train_dataset = MovielensDataset(dfs[i])\n",
    "        train_loader = DataLoader(train_dataset, batch_size=BATCH_SIZE, shuffle=True)\n",
    "\n",
    "        for e in tqdm(range(1, EPOCH+1)):\n",
    "            train_ewc(model, device, train_loader, optimizer, e, i, fisher_dict, optpar_dict, ewc_lambda)\n",
    "        on_task_update(model, device, train_loader, optimizer, i, fisher_dict, optpar_dict)\n",
    "\n",
    "        # inference test\n",
    "        inference_dataset = MovielensDataset(dfs[i+1])\n",
    "        inference_loader = DataLoader(inference_dataset, batch_size=BATCH_SIZE, shuffle=True)\n",
    "\n",
    "        _, inference_recall = test(model, device, inference_loader)\n",
    "        inference_recall_list.append(inference_recall)\n",
    "        print(f\"******* {scenario} scenario At TASK{i} inference recall20 = {inference_recall}\\n\")\n",
    "\n",
    "        # forgetting test\n",
    "        # i == 0 인 경우는 제외\n",
    "        if i == 0 :\n",
    "            continue\n",
    "        forgetting_dataset_list = dfs[:i]\n",
    "\n",
    "        forgetting_recall_list = []\n",
    "        for j, f in enumerate(forgetting_dataset_list):\n",
    "            forgetting_dataset = MovielensDataset(f)\n",
    "            forgetting_loader = DataLoader(forgetting_dataset, batch_size=BATCH_SIZE, shuffle=True)\n",
    "            _, forgetting_recall = test(model, device, forgetting_loader)\n",
    "            forgetting_recall_list.append(forgetting_recall)\n",
    "            print(f\"******* {scenario} scenario At TASK{i} prev TASK {j} forgetting recall20 = {forgetting_recall}\")\n",
    "        average_forgetting_recall = sum(forgetting_recall_list) / len(forgetting_recall_list)\n",
    "        print(f\"\\n******* {scenario} scenario At TASK{i} forgetting recall20 average = {average_forgetting_recall}\")\n",
    "\n",
    "    average_inference_recall = sum(inference_recall_list)/len(inference_recall_list)\n",
    "    print(f\"******* {scenario} scenario At TASK{i} inference recall20 average = {average_inference_recall}\")\n",
    "\n",
    "    return average_inference_recall, average_forgetting_recall"
   ],
   "metadata": {
    "collapsed": false
   }
  },
  {
   "cell_type": "code",
   "execution_count": null,
   "outputs": [
    {
     "name": "stderr",
     "output_type": "stream",
     "text": [
      "100%|██████████| 1/1 [01:24<00:00, 84.64s/it]\n"
     ]
    },
    {
     "name": "stdout",
     "output_type": "stream",
     "text": [
      "******* increase scenario At TASK0 inference recall20 = 0.5323513580070103\n",
      "\n"
     ]
    },
    {
     "name": "stderr",
     "output_type": "stream",
     "text": [
      "100%|██████████| 1/1 [00:12<00:00, 12.20s/it]\n"
     ]
    },
    {
     "name": "stdout",
     "output_type": "stream",
     "text": [
      "******* increase scenario At TASK1 inference recall20 = 0.5622014968370418\n",
      "\n",
      "******* increase scenario At TASK1 prev TASK 0 forgetting recall20 = 0.6055163651604514\n",
      "\n",
      "******* increase scenario At TASK1 forgetting recall20 average = 0.6055163651604514\n"
     ]
    },
    {
     "name": "stderr",
     "output_type": "stream",
     "text": [
      "100%|██████████| 1/1 [00:12<00:00, 12.79s/it]\n"
     ]
    },
    {
     "name": "stdout",
     "output_type": "stream",
     "text": [
      "******* increase scenario At TASK2 inference recall20 = 0.5577268948237165\n",
      "\n",
      "******* increase scenario At TASK2 prev TASK 0 forgetting recall20 = 0.597367920396904\n",
      "******* increase scenario At TASK2 prev TASK 1 forgetting recall20 = 0.6134630786694938\n",
      "\n",
      "******* increase scenario At TASK2 forgetting recall20 average = 0.6054154995331988\n"
     ]
    },
    {
     "name": "stderr",
     "output_type": "stream",
     "text": [
      "100%|██████████| 1/1 [00:14<00:00, 14.87s/it]\n"
     ]
    },
    {
     "name": "stdout",
     "output_type": "stream",
     "text": [
      "******* increase scenario At TASK3 inference recall20 = 0.5459518901604095\n",
      "\n",
      "******* increase scenario At TASK3 prev TASK 0 forgetting recall20 = 0.6069247370581422\n",
      "******* increase scenario At TASK3 prev TASK 1 forgetting recall20 = 0.6151531842038381\n",
      "******* increase scenario At TASK3 prev TASK 2 forgetting recall20 = 0.6588088324229368\n",
      "\n",
      "******* increase scenario At TASK3 forgetting recall20 average = 0.6269622512283056\n"
     ]
    },
    {
     "name": "stderr",
     "output_type": "stream",
     "text": [
      "100%|██████████| 1/1 [00:15<00:00, 15.14s/it]\n"
     ]
    }
   ],
   "source": [
    "ewc_increase_inference, ewc_increase_forgetting = getEWCResultByScenario(\"increase\")"
   ],
   "metadata": {
    "collapsed": false,
    "pycharm": {
     "is_executing": true
    }
   }
  },
  {
   "cell_type": "code",
   "execution_count": null,
   "outputs": [],
   "source": [
    "ewc_fixed_inference, ewc_fixed_forgetting = getEWCResultByScenario(\"fixed\")"
   ],
   "metadata": {
    "collapsed": false
   }
  },
  {
   "cell_type": "code",
   "execution_count": null,
   "outputs": [],
   "source": [
    "ewc_user_inference, ewc_user_forgetting = getEWCResultByScenario(\"user\")"
   ],
   "metadata": {
    "collapsed": false
   }
  },
  {
   "cell_type": "code",
   "execution_count": null,
   "outputs": [],
   "source": [
    "ewc_item_inference, ewc_item_forgetting = getEWCResultByScenario(\"item\")"
   ],
   "metadata": {
    "collapsed": false
   }
  },
  {
   "cell_type": "markdown",
   "source": [],
   "metadata": {
    "collapsed": false
   }
  },
  {
   "cell_type": "markdown",
   "source": [],
   "metadata": {
    "collapsed": false
   }
  },
  {
   "cell_type": "markdown",
   "source": [
    "## 결과 확인"
   ],
   "metadata": {
    "collapsed": false
   }
  },
  {
   "cell_type": "code",
   "execution_count": null,
   "outputs": [],
   "source": [
    "print(f\"\"\"\n",
    "full_increase_inference: {full_increase_inference} full_increase_inference: {full_increase_forgetting}\n",
    "full_fixed_inference: {full_fixed_inference} full_increase_inference: {full_fixed_forgetting}\n",
    "full_user_inference: {full_user_inference} full_increase_inference: {full_user_forgetting}\n",
    "full_item_inference: {full_item_inference} full_increase_inference: {full_item_forgetting}\n",
    "\"\"\")"
   ],
   "metadata": {
    "collapsed": false
   }
  },
  {
   "cell_type": "code",
   "execution_count": null,
   "outputs": [],
   "source": [
    "print(f\"\"\"\n",
    "ewc_increase_inference: {ewc_increase_inference} ewc_increase_inference: {ewc_increase_forgetting}\n",
    "ewc_fixed_inference: {ewc_fixed_inference} ewc_increase_inference: {ewc_fixed_forgetting}\n",
    "ewc_user_inference: {ewc_user_inference} ewc_increase_inference: {ewc_user_forgetting}\n",
    "ewc_item_inference: {ewc_item_inference} ewc_increase_inference: {ewc_item_forgetting}\n",
    "\"\"\")"
   ],
   "metadata": {
    "collapsed": false
   }
  },
  {
   "cell_type": "code",
   "execution_count": null,
   "outputs": [],
   "source": [],
   "metadata": {
    "collapsed": false
   }
  }
 ],
 "metadata": {
  "kernelspec": {
   "display_name": "Python 3",
   "language": "python",
   "name": "python3"
  },
  "language_info": {
   "codemirror_mode": {
    "name": "ipython",
    "version": 2
   },
   "file_extension": ".py",
   "mimetype": "text/x-python",
   "name": "python",
   "nbconvert_exporter": "python",
   "pygments_lexer": "ipython2",
   "version": "2.7.6"
  }
 },
 "nbformat": 4,
 "nbformat_minor": 0
}
